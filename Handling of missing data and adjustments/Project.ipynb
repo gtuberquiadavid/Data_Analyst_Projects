{
 "cells": [
  {
   "cell_type": "markdown",
   "metadata": {},
   "source": [
    "# Introduction\n",
    "\n",
    "Instacart is a grocery delivery platform where customers can place an order and have it delivered, similar to Uber Eats and DoorDash. The dataset provided has been modified from the original version. We reduced its size to make calculations faster and introduced missing and duplicate values. Care was taken to preserve the original data distributions when making these changes.\n",
    "\n",
    "You must complete three steps. For each one, write a brief introduction that clearly reflects how you intend to solve each step, and write explanatory paragraphs that justify your decisions as you progress in your solution. Also, write a conclusion that summarizes your findings and choices.\n"
   ]
  },
  {
   "cell_type": "markdown",
   "metadata": {},
   "source": [
    "## Data Dictionary\n",
    "\n",
    "There are five tables in the dataset, and you will need to use all of them for data preprocessing and exploratory data analysis. Below is a data dictionary listing the columns of each table and describing the data they contain.\n",
    "\n",
    "- `instacart_orders.csv`: each row corresponds to an order in the Instacart application.\n",
    "    - `'order_id'`: unique ID number identifying each order.\n",
    "    - `'user_id'`: unique ID number identifying each customer account.\n",
    "    - `'order_number'`: the number of times this customer has placed an order.\n",
    "    - `'order_dow'`: the day of the week the order was placed (0 if Sunday).\n",
    "    - `'order_hour_of_day'`: the hour of the day the order was placed.\n",
    "    - `'days_since_prior_order'`: the number of days since this customer’s previous order.\n",
    "- `products.csv`: each row corresponds to a unique product that customers can purchase.\n",
    "    - `'product_id'`: unique ID number identifying each product.\n",
    "    - `'product_name'`: name of the product.\n",
    "    - `'aisle_id'`: unique ID number identifying each grocery aisle category.\n",
    "    - `'department_id'`: unique ID number identifying each grocery department.\n",
    "- `order_products.csv`: each row corresponds to an item ordered within an order.\n",
    "    - `'order_id'`: unique ID number identifying each order.\n",
    "    - `'product_id'`: unique ID number identifying each product.\n",
    "    - `'add_to_cart_order'`: the sequential order in which each item was added to the cart.\n",
    "    - `'reordered'`: 0 if the customer has never ordered this product before, 1 if they have.\n",
    "- `aisles.csv`\n",
    "    - `'aisle_id'`: unique ID number identifying each grocery aisle category.\n",
    "    - `'aisle'`: name of the aisle.\n",
    "- `departments.csv`\n",
    "    - `'department_id'`: unique ID number identifying each grocery department.\n",
    "    - `'department'`: name of the department."
   ]
  },
  {
   "cell_type": "markdown",
   "metadata": {},
   "source": [
    "# Step 1. Data Description\n",
    "\n",
    "Read the data files (`/datasets/instacart_orders.csv`, `/datasets/products.csv`, `/datasets/aisles.csv`, `/datasets/departments.csv` and `/datasets/order_products.csv`) with `pd.read_csv()` using the appropriate parameters to correctly read the data. Verify the information for each DataFrame created.\n"
   ]
  },
  {
   "cell_type": "markdown",
   "metadata": {},
   "source": [
    "## Solution Plan\n",
    "\n",
    "Write your solution plan here for Step 1. Data Description."
   ]
  },
  {
   "cell_type": "code",
   "execution_count": 1,
   "metadata": {},
   "outputs": [],
   "source": [
    "import pandas as pd\n",
    "from matplotlib import pyplot as plt # import libraries\n",
    "import numpy as np"
   ]
  },
  {
   "cell_type": "code",
   "execution_count": 2,
   "metadata": {},
   "outputs": [],
   "source": [
    "df_orders = pd.read_csv('instacart_orders.csv', sep=';')\n",
    "df_products = pd.read_csv('products.csv', sep=';')\n",
    "df_aisles = pd.read_csv('aisles.csv', sep=';')\n",
    "df_departments = pd.read_csv('departments.csv', sep=';')\n",
    "df_order_products = pd.read_csv('order_products.csv', sep=';')# read datasets into DataFrames"
   ]
  },
  {
   "cell_type": "code",
   "execution_count": 3,
   "metadata": {},
   "outputs": [
    {
     "data": {
      "text/html": [
       "<div>\n",
       "<style scoped>\n",
       "    .dataframe tbody tr th:only-of-type {\n",
       "        vertical-align: middle;\n",
       "    }\n",
       "\n",
       "    .dataframe tbody tr th {\n",
       "        vertical-align: top;\n",
       "    }\n",
       "\n",
       "    .dataframe thead th {\n",
       "        text-align: right;\n",
       "    }\n",
       "</style>\n",
       "<table border=\"1\" class=\"dataframe\">\n",
       "  <thead>\n",
       "    <tr style=\"text-align: right;\">\n",
       "      <th></th>\n",
       "      <th>order_id</th>\n",
       "      <th>user_id</th>\n",
       "      <th>order_number</th>\n",
       "      <th>order_dow</th>\n",
       "      <th>order_hour_of_day</th>\n",
       "      <th>days_since_prior_order</th>\n",
       "    </tr>\n",
       "  </thead>\n",
       "  <tbody>\n",
       "    <tr>\n",
       "      <th>0</th>\n",
       "      <td>1515936</td>\n",
       "      <td>183418</td>\n",
       "      <td>11</td>\n",
       "      <td>6</td>\n",
       "      <td>13</td>\n",
       "      <td>30.0</td>\n",
       "    </tr>\n",
       "    <tr>\n",
       "      <th>1</th>\n",
       "      <td>1690866</td>\n",
       "      <td>163593</td>\n",
       "      <td>5</td>\n",
       "      <td>5</td>\n",
       "      <td>12</td>\n",
       "      <td>9.0</td>\n",
       "    </tr>\n",
       "    <tr>\n",
       "      <th>2</th>\n",
       "      <td>1454967</td>\n",
       "      <td>39980</td>\n",
       "      <td>4</td>\n",
       "      <td>5</td>\n",
       "      <td>19</td>\n",
       "      <td>2.0</td>\n",
       "    </tr>\n",
       "    <tr>\n",
       "      <th>3</th>\n",
       "      <td>1768857</td>\n",
       "      <td>82516</td>\n",
       "      <td>56</td>\n",
       "      <td>0</td>\n",
       "      <td>20</td>\n",
       "      <td>10.0</td>\n",
       "    </tr>\n",
       "    <tr>\n",
       "      <th>4</th>\n",
       "      <td>3007858</td>\n",
       "      <td>196724</td>\n",
       "      <td>2</td>\n",
       "      <td>4</td>\n",
       "      <td>12</td>\n",
       "      <td>17.0</td>\n",
       "    </tr>\n",
       "    <tr>\n",
       "      <th>...</th>\n",
       "      <td>...</td>\n",
       "      <td>...</td>\n",
       "      <td>...</td>\n",
       "      <td>...</td>\n",
       "      <td>...</td>\n",
       "      <td>...</td>\n",
       "    </tr>\n",
       "    <tr>\n",
       "      <th>478962</th>\n",
       "      <td>3210681</td>\n",
       "      <td>5617</td>\n",
       "      <td>5</td>\n",
       "      <td>1</td>\n",
       "      <td>14</td>\n",
       "      <td>7.0</td>\n",
       "    </tr>\n",
       "    <tr>\n",
       "      <th>478963</th>\n",
       "      <td>3270802</td>\n",
       "      <td>112087</td>\n",
       "      <td>2</td>\n",
       "      <td>3</td>\n",
       "      <td>13</td>\n",
       "      <td>6.0</td>\n",
       "    </tr>\n",
       "    <tr>\n",
       "      <th>478964</th>\n",
       "      <td>885349</td>\n",
       "      <td>82944</td>\n",
       "      <td>16</td>\n",
       "      <td>2</td>\n",
       "      <td>11</td>\n",
       "      <td>6.0</td>\n",
       "    </tr>\n",
       "    <tr>\n",
       "      <th>478965</th>\n",
       "      <td>216274</td>\n",
       "      <td>4391</td>\n",
       "      <td>3</td>\n",
       "      <td>3</td>\n",
       "      <td>8</td>\n",
       "      <td>8.0</td>\n",
       "    </tr>\n",
       "    <tr>\n",
       "      <th>478966</th>\n",
       "      <td>2071924</td>\n",
       "      <td>1730</td>\n",
       "      <td>18</td>\n",
       "      <td>1</td>\n",
       "      <td>14</td>\n",
       "      <td>15.0</td>\n",
       "    </tr>\n",
       "  </tbody>\n",
       "</table>\n",
       "<p>478967 rows × 6 columns</p>\n",
       "</div>"
      ],
      "text/plain": [
       "        order_id  user_id  order_number  order_dow  order_hour_of_day  \\\n",
       "0        1515936   183418            11          6                 13   \n",
       "1        1690866   163593             5          5                 12   \n",
       "2        1454967    39980             4          5                 19   \n",
       "3        1768857    82516            56          0                 20   \n",
       "4        3007858   196724             2          4                 12   \n",
       "...          ...      ...           ...        ...                ...   \n",
       "478962   3210681     5617             5          1                 14   \n",
       "478963   3270802   112087             2          3                 13   \n",
       "478964    885349    82944            16          2                 11   \n",
       "478965    216274     4391             3          3                  8   \n",
       "478966   2071924     1730            18          1                 14   \n",
       "\n",
       "        days_since_prior_order  \n",
       "0                         30.0  \n",
       "1                          9.0  \n",
       "2                          2.0  \n",
       "3                         10.0  \n",
       "4                         17.0  \n",
       "...                        ...  \n",
       "478962                     7.0  \n",
       "478963                     6.0  \n",
       "478964                     6.0  \n",
       "478965                     8.0  \n",
       "478966                    15.0  \n",
       "\n",
       "[478967 rows x 6 columns]"
      ]
     },
     "metadata": {},
     "output_type": "display_data"
    },
    {
     "name": "stdout",
     "output_type": "stream",
     "text": [
      "<class 'pandas.core.frame.DataFrame'>\n",
      "RangeIndex: 478967 entries, 0 to 478966\n",
      "Data columns (total 6 columns):\n",
      " #   Column                  Non-Null Count   Dtype  \n",
      "---  ------                  --------------   -----  \n",
      " 0   order_id                478967 non-null  int64  \n",
      " 1   user_id                 478967 non-null  int64  \n",
      " 2   order_number            478967 non-null  int64  \n",
      " 3   order_dow               478967 non-null  int64  \n",
      " 4   order_hour_of_day       478967 non-null  int64  \n",
      " 5   days_since_prior_order  450148 non-null  float64\n",
      "dtypes: float64(1), int64(5)\n",
      "memory usage: 21.9 MB\n"
     ]
    }
   ],
   "source": [
    "display(df_orders)\n",
    "df_orders.info() # show DataFrame information"
   ]
  },
  {
   "cell_type": "code",
   "execution_count": 4,
   "metadata": {},
   "outputs": [
    {
     "data": {
      "text/html": [
       "<div>\n",
       "<style scoped>\n",
       "    .dataframe tbody tr th:only-of-type {\n",
       "        vertical-align: middle;\n",
       "    }\n",
       "\n",
       "    .dataframe tbody tr th {\n",
       "        vertical-align: top;\n",
       "    }\n",
       "\n",
       "    .dataframe thead th {\n",
       "        text-align: right;\n",
       "    }\n",
       "</style>\n",
       "<table border=\"1\" class=\"dataframe\">\n",
       "  <thead>\n",
       "    <tr style=\"text-align: right;\">\n",
       "      <th></th>\n",
       "      <th>product_id</th>\n",
       "      <th>product_name</th>\n",
       "      <th>aisle_id</th>\n",
       "      <th>department_id</th>\n",
       "    </tr>\n",
       "  </thead>\n",
       "  <tbody>\n",
       "    <tr>\n",
       "      <th>0</th>\n",
       "      <td>1</td>\n",
       "      <td>Chocolate Sandwich Cookies</td>\n",
       "      <td>61</td>\n",
       "      <td>19</td>\n",
       "    </tr>\n",
       "    <tr>\n",
       "      <th>1</th>\n",
       "      <td>2</td>\n",
       "      <td>All-Seasons Salt</td>\n",
       "      <td>104</td>\n",
       "      <td>13</td>\n",
       "    </tr>\n",
       "    <tr>\n",
       "      <th>2</th>\n",
       "      <td>3</td>\n",
       "      <td>Robust Golden Unsweetened Oolong Tea</td>\n",
       "      <td>94</td>\n",
       "      <td>7</td>\n",
       "    </tr>\n",
       "    <tr>\n",
       "      <th>3</th>\n",
       "      <td>4</td>\n",
       "      <td>Smart Ones Classic Favorites Mini Rigatoni Wit...</td>\n",
       "      <td>38</td>\n",
       "      <td>1</td>\n",
       "    </tr>\n",
       "    <tr>\n",
       "      <th>4</th>\n",
       "      <td>5</td>\n",
       "      <td>Green Chile Anytime Sauce</td>\n",
       "      <td>5</td>\n",
       "      <td>13</td>\n",
       "    </tr>\n",
       "    <tr>\n",
       "      <th>...</th>\n",
       "      <td>...</td>\n",
       "      <td>...</td>\n",
       "      <td>...</td>\n",
       "      <td>...</td>\n",
       "    </tr>\n",
       "    <tr>\n",
       "      <th>49689</th>\n",
       "      <td>49690</td>\n",
       "      <td>HIGH PERFORMANCE ENERGY DRINK</td>\n",
       "      <td>64</td>\n",
       "      <td>7</td>\n",
       "    </tr>\n",
       "    <tr>\n",
       "      <th>49690</th>\n",
       "      <td>49691</td>\n",
       "      <td>ORIGINAL PANCAKE &amp; WAFFLE MIX</td>\n",
       "      <td>130</td>\n",
       "      <td>14</td>\n",
       "    </tr>\n",
       "    <tr>\n",
       "      <th>49691</th>\n",
       "      <td>49692</td>\n",
       "      <td>ORGANIC INSTANT OATMEAL LIGHT MAPLE BROWN SUGAR</td>\n",
       "      <td>130</td>\n",
       "      <td>14</td>\n",
       "    </tr>\n",
       "    <tr>\n",
       "      <th>49692</th>\n",
       "      <td>49693</td>\n",
       "      <td>SPRING WATER BODY WASH</td>\n",
       "      <td>127</td>\n",
       "      <td>11</td>\n",
       "    </tr>\n",
       "    <tr>\n",
       "      <th>49693</th>\n",
       "      <td>49694</td>\n",
       "      <td>BURRITO- STEAK &amp; CHEESE</td>\n",
       "      <td>38</td>\n",
       "      <td>1</td>\n",
       "    </tr>\n",
       "  </tbody>\n",
       "</table>\n",
       "<p>49694 rows × 4 columns</p>\n",
       "</div>"
      ],
      "text/plain": [
       "       product_id                                       product_name  \\\n",
       "0               1                         Chocolate Sandwich Cookies   \n",
       "1               2                                   All-Seasons Salt   \n",
       "2               3               Robust Golden Unsweetened Oolong Tea   \n",
       "3               4  Smart Ones Classic Favorites Mini Rigatoni Wit...   \n",
       "4               5                          Green Chile Anytime Sauce   \n",
       "...           ...                                                ...   \n",
       "49689       49690                      HIGH PERFORMANCE ENERGY DRINK   \n",
       "49690       49691                      ORIGINAL PANCAKE & WAFFLE MIX   \n",
       "49691       49692    ORGANIC INSTANT OATMEAL LIGHT MAPLE BROWN SUGAR   \n",
       "49692       49693                             SPRING WATER BODY WASH   \n",
       "49693       49694                            BURRITO- STEAK & CHEESE   \n",
       "\n",
       "       aisle_id  department_id  \n",
       "0            61             19  \n",
       "1           104             13  \n",
       "2            94              7  \n",
       "3            38              1  \n",
       "4             5             13  \n",
       "...         ...            ...  \n",
       "49689        64              7  \n",
       "49690       130             14  \n",
       "49691       130             14  \n",
       "49692       127             11  \n",
       "49693        38              1  \n",
       "\n",
       "[49694 rows x 4 columns]"
      ]
     },
     "metadata": {},
     "output_type": "display_data"
    },
    {
     "name": "stdout",
     "output_type": "stream",
     "text": [
      "<class 'pandas.core.frame.DataFrame'>\n",
      "RangeIndex: 49694 entries, 0 to 49693\n",
      "Data columns (total 4 columns):\n",
      " #   Column         Non-Null Count  Dtype \n",
      "---  ------         --------------  ----- \n",
      " 0   product_id     49694 non-null  int64 \n",
      " 1   product_name   48436 non-null  object\n",
      " 2   aisle_id       49694 non-null  int64 \n",
      " 3   department_id  49694 non-null  int64 \n",
      "dtypes: int64(3), object(1)\n",
      "memory usage: 1.5+ MB\n"
     ]
    }
   ],
   "source": [
    "display(df_products)\n",
    "df_products.info()# show DataFrame information"
   ]
  },
  {
   "cell_type": "code",
   "execution_count": 5,
   "metadata": {},
   "outputs": [
    {
     "data": {
      "text/html": [
       "<div>\n",
       "<style scoped>\n",
       "    .dataframe tbody tr th:only-of-type {\n",
       "        vertical-align: middle;\n",
       "    }\n",
       "\n",
       "    .dataframe tbody tr th {\n",
       "        vertical-align: top;\n",
       "    }\n",
       "\n",
       "    .dataframe thead th {\n",
       "        text-align: right;\n",
       "    }\n",
       "</style>\n",
       "<table border=\"1\" class=\"dataframe\">\n",
       "  <thead>\n",
       "    <tr style=\"text-align: right;\">\n",
       "      <th></th>\n",
       "      <th>aisle_id</th>\n",
       "      <th>aisle</th>\n",
       "    </tr>\n",
       "  </thead>\n",
       "  <tbody>\n",
       "    <tr>\n",
       "      <th>0</th>\n",
       "      <td>1</td>\n",
       "      <td>prepared soups salads</td>\n",
       "    </tr>\n",
       "    <tr>\n",
       "      <th>1</th>\n",
       "      <td>2</td>\n",
       "      <td>specialty cheeses</td>\n",
       "    </tr>\n",
       "    <tr>\n",
       "      <th>2</th>\n",
       "      <td>3</td>\n",
       "      <td>energy granola bars</td>\n",
       "    </tr>\n",
       "    <tr>\n",
       "      <th>3</th>\n",
       "      <td>4</td>\n",
       "      <td>instant foods</td>\n",
       "    </tr>\n",
       "    <tr>\n",
       "      <th>4</th>\n",
       "      <td>5</td>\n",
       "      <td>marinades meat preparation</td>\n",
       "    </tr>\n",
       "    <tr>\n",
       "      <th>...</th>\n",
       "      <td>...</td>\n",
       "      <td>...</td>\n",
       "    </tr>\n",
       "    <tr>\n",
       "      <th>129</th>\n",
       "      <td>130</td>\n",
       "      <td>hot cereal pancake mixes</td>\n",
       "    </tr>\n",
       "    <tr>\n",
       "      <th>130</th>\n",
       "      <td>131</td>\n",
       "      <td>dry pasta</td>\n",
       "    </tr>\n",
       "    <tr>\n",
       "      <th>131</th>\n",
       "      <td>132</td>\n",
       "      <td>beauty</td>\n",
       "    </tr>\n",
       "    <tr>\n",
       "      <th>132</th>\n",
       "      <td>133</td>\n",
       "      <td>muscles joints pain relief</td>\n",
       "    </tr>\n",
       "    <tr>\n",
       "      <th>133</th>\n",
       "      <td>134</td>\n",
       "      <td>specialty wines champagnes</td>\n",
       "    </tr>\n",
       "  </tbody>\n",
       "</table>\n",
       "<p>134 rows × 2 columns</p>\n",
       "</div>"
      ],
      "text/plain": [
       "     aisle_id                       aisle\n",
       "0           1       prepared soups salads\n",
       "1           2           specialty cheeses\n",
       "2           3         energy granola bars\n",
       "3           4               instant foods\n",
       "4           5  marinades meat preparation\n",
       "..        ...                         ...\n",
       "129       130    hot cereal pancake mixes\n",
       "130       131                   dry pasta\n",
       "131       132                      beauty\n",
       "132       133  muscles joints pain relief\n",
       "133       134  specialty wines champagnes\n",
       "\n",
       "[134 rows x 2 columns]"
      ]
     },
     "metadata": {},
     "output_type": "display_data"
    },
    {
     "name": "stdout",
     "output_type": "stream",
     "text": [
      "<class 'pandas.core.frame.DataFrame'>\n",
      "RangeIndex: 49694 entries, 0 to 49693\n",
      "Data columns (total 4 columns):\n",
      " #   Column         Non-Null Count  Dtype \n",
      "---  ------         --------------  ----- \n",
      " 0   product_id     49694 non-null  int64 \n",
      " 1   product_name   48436 non-null  object\n",
      " 2   aisle_id       49694 non-null  int64 \n",
      " 3   department_id  49694 non-null  int64 \n",
      "dtypes: int64(3), object(1)\n",
      "memory usage: 1.5+ MB\n"
     ]
    }
   ],
   "source": [
    "display(df_aisles)\n",
    "df_products.info()# show DataFrame information"
   ]
  },
  {
   "cell_type": "code",
   "execution_count": 6,
   "metadata": {},
   "outputs": [
    {
     "data": {
      "text/html": [
       "<div>\n",
       "<style scoped>\n",
       "    .dataframe tbody tr th:only-of-type {\n",
       "        vertical-align: middle;\n",
       "    }\n",
       "\n",
       "    .dataframe tbody tr th {\n",
       "        vertical-align: top;\n",
       "    }\n",
       "\n",
       "    .dataframe thead th {\n",
       "        text-align: right;\n",
       "    }\n",
       "</style>\n",
       "<table border=\"1\" class=\"dataframe\">\n",
       "  <thead>\n",
       "    <tr style=\"text-align: right;\">\n",
       "      <th></th>\n",
       "      <th>department_id</th>\n",
       "      <th>department</th>\n",
       "    </tr>\n",
       "  </thead>\n",
       "  <tbody>\n",
       "    <tr>\n",
       "      <th>0</th>\n",
       "      <td>1</td>\n",
       "      <td>frozen</td>\n",
       "    </tr>\n",
       "    <tr>\n",
       "      <th>1</th>\n",
       "      <td>2</td>\n",
       "      <td>other</td>\n",
       "    </tr>\n",
       "    <tr>\n",
       "      <th>2</th>\n",
       "      <td>3</td>\n",
       "      <td>bakery</td>\n",
       "    </tr>\n",
       "    <tr>\n",
       "      <th>3</th>\n",
       "      <td>4</td>\n",
       "      <td>produce</td>\n",
       "    </tr>\n",
       "    <tr>\n",
       "      <th>4</th>\n",
       "      <td>5</td>\n",
       "      <td>alcohol</td>\n",
       "    </tr>\n",
       "    <tr>\n",
       "      <th>5</th>\n",
       "      <td>6</td>\n",
       "      <td>international</td>\n",
       "    </tr>\n",
       "    <tr>\n",
       "      <th>6</th>\n",
       "      <td>7</td>\n",
       "      <td>beverages</td>\n",
       "    </tr>\n",
       "    <tr>\n",
       "      <th>7</th>\n",
       "      <td>8</td>\n",
       "      <td>pets</td>\n",
       "    </tr>\n",
       "    <tr>\n",
       "      <th>8</th>\n",
       "      <td>9</td>\n",
       "      <td>dry goods pasta</td>\n",
       "    </tr>\n",
       "    <tr>\n",
       "      <th>9</th>\n",
       "      <td>10</td>\n",
       "      <td>bulk</td>\n",
       "    </tr>\n",
       "    <tr>\n",
       "      <th>10</th>\n",
       "      <td>11</td>\n",
       "      <td>personal care</td>\n",
       "    </tr>\n",
       "    <tr>\n",
       "      <th>11</th>\n",
       "      <td>12</td>\n",
       "      <td>meat seafood</td>\n",
       "    </tr>\n",
       "    <tr>\n",
       "      <th>12</th>\n",
       "      <td>13</td>\n",
       "      <td>pantry</td>\n",
       "    </tr>\n",
       "    <tr>\n",
       "      <th>13</th>\n",
       "      <td>14</td>\n",
       "      <td>breakfast</td>\n",
       "    </tr>\n",
       "    <tr>\n",
       "      <th>14</th>\n",
       "      <td>15</td>\n",
       "      <td>canned goods</td>\n",
       "    </tr>\n",
       "    <tr>\n",
       "      <th>15</th>\n",
       "      <td>16</td>\n",
       "      <td>dairy eggs</td>\n",
       "    </tr>\n",
       "    <tr>\n",
       "      <th>16</th>\n",
       "      <td>17</td>\n",
       "      <td>household</td>\n",
       "    </tr>\n",
       "    <tr>\n",
       "      <th>17</th>\n",
       "      <td>18</td>\n",
       "      <td>babies</td>\n",
       "    </tr>\n",
       "    <tr>\n",
       "      <th>18</th>\n",
       "      <td>19</td>\n",
       "      <td>snacks</td>\n",
       "    </tr>\n",
       "    <tr>\n",
       "      <th>19</th>\n",
       "      <td>20</td>\n",
       "      <td>deli</td>\n",
       "    </tr>\n",
       "    <tr>\n",
       "      <th>20</th>\n",
       "      <td>21</td>\n",
       "      <td>missing</td>\n",
       "    </tr>\n",
       "  </tbody>\n",
       "</table>\n",
       "</div>"
      ],
      "text/plain": [
       "    department_id       department\n",
       "0               1           frozen\n",
       "1               2            other\n",
       "2               3           bakery\n",
       "3               4          produce\n",
       "4               5          alcohol\n",
       "5               6    international\n",
       "6               7        beverages\n",
       "7               8             pets\n",
       "8               9  dry goods pasta\n",
       "9              10             bulk\n",
       "10             11    personal care\n",
       "11             12     meat seafood\n",
       "12             13           pantry\n",
       "13             14        breakfast\n",
       "14             15     canned goods\n",
       "15             16       dairy eggs\n",
       "16             17        household\n",
       "17             18           babies\n",
       "18             19           snacks\n",
       "19             20             deli\n",
       "20             21          missing"
      ]
     },
     "metadata": {},
     "output_type": "display_data"
    },
    {
     "name": "stdout",
     "output_type": "stream",
     "text": [
      "<class 'pandas.core.frame.DataFrame'>\n",
      "RangeIndex: 21 entries, 0 to 20\n",
      "Data columns (total 2 columns):\n",
      " #   Column         Non-Null Count  Dtype \n",
      "---  ------         --------------  ----- \n",
      " 0   department_id  21 non-null     int64 \n",
      " 1   department     21 non-null     object\n",
      "dtypes: int64(1), object(1)\n",
      "memory usage: 468.0+ bytes\n"
     ]
    }
   ],
   "source": [
    "display(df_departments)\n",
    "df_departments.info()# show DataFrame information"
   ]
  },
  {
   "cell_type": "code",
   "execution_count": 7,
   "metadata": {},
   "outputs": [
    {
     "data": {
      "text/html": [
       "<div>\n",
       "<style scoped>\n",
       "    .dataframe tbody tr th:only-of-type {\n",
       "        vertical-align: middle;\n",
       "    }\n",
       "\n",
       "    .dataframe tbody tr th {\n",
       "        vertical-align: top;\n",
       "    }\n",
       "\n",
       "    .dataframe thead th {\n",
       "        text-align: right;\n",
       "    }\n",
       "</style>\n",
       "<table border=\"1\" class=\"dataframe\">\n",
       "  <thead>\n",
       "    <tr style=\"text-align: right;\">\n",
       "      <th></th>\n",
       "      <th>order_id</th>\n",
       "      <th>product_id</th>\n",
       "      <th>add_to_cart_order</th>\n",
       "      <th>reordered</th>\n",
       "    </tr>\n",
       "  </thead>\n",
       "  <tbody>\n",
       "    <tr>\n",
       "      <th>0</th>\n",
       "      <td>2141543</td>\n",
       "      <td>11440</td>\n",
       "      <td>17.0</td>\n",
       "      <td>0</td>\n",
       "    </tr>\n",
       "    <tr>\n",
       "      <th>1</th>\n",
       "      <td>567889</td>\n",
       "      <td>1560</td>\n",
       "      <td>1.0</td>\n",
       "      <td>1</td>\n",
       "    </tr>\n",
       "    <tr>\n",
       "      <th>2</th>\n",
       "      <td>2261212</td>\n",
       "      <td>26683</td>\n",
       "      <td>1.0</td>\n",
       "      <td>1</td>\n",
       "    </tr>\n",
       "    <tr>\n",
       "      <th>3</th>\n",
       "      <td>491251</td>\n",
       "      <td>8670</td>\n",
       "      <td>35.0</td>\n",
       "      <td>1</td>\n",
       "    </tr>\n",
       "    <tr>\n",
       "      <th>4</th>\n",
       "      <td>2571142</td>\n",
       "      <td>1940</td>\n",
       "      <td>5.0</td>\n",
       "      <td>1</td>\n",
       "    </tr>\n",
       "    <tr>\n",
       "      <th>...</th>\n",
       "      <td>...</td>\n",
       "      <td>...</td>\n",
       "      <td>...</td>\n",
       "      <td>...</td>\n",
       "    </tr>\n",
       "    <tr>\n",
       "      <th>4545002</th>\n",
       "      <td>577211</td>\n",
       "      <td>15290</td>\n",
       "      <td>12.0</td>\n",
       "      <td>1</td>\n",
       "    </tr>\n",
       "    <tr>\n",
       "      <th>4545003</th>\n",
       "      <td>1219554</td>\n",
       "      <td>21914</td>\n",
       "      <td>9.0</td>\n",
       "      <td>0</td>\n",
       "    </tr>\n",
       "    <tr>\n",
       "      <th>4545004</th>\n",
       "      <td>692640</td>\n",
       "      <td>47766</td>\n",
       "      <td>4.0</td>\n",
       "      <td>1</td>\n",
       "    </tr>\n",
       "    <tr>\n",
       "      <th>4545005</th>\n",
       "      <td>319435</td>\n",
       "      <td>691</td>\n",
       "      <td>8.0</td>\n",
       "      <td>1</td>\n",
       "    </tr>\n",
       "    <tr>\n",
       "      <th>4545006</th>\n",
       "      <td>1398151</td>\n",
       "      <td>28733</td>\n",
       "      <td>9.0</td>\n",
       "      <td>0</td>\n",
       "    </tr>\n",
       "  </tbody>\n",
       "</table>\n",
       "<p>4545007 rows × 4 columns</p>\n",
       "</div>"
      ],
      "text/plain": [
       "         order_id  product_id  add_to_cart_order  reordered\n",
       "0         2141543       11440               17.0          0\n",
       "1          567889        1560                1.0          1\n",
       "2         2261212       26683                1.0          1\n",
       "3          491251        8670               35.0          1\n",
       "4         2571142        1940                5.0          1\n",
       "...           ...         ...                ...        ...\n",
       "4545002    577211       15290               12.0          1\n",
       "4545003   1219554       21914                9.0          0\n",
       "4545004    692640       47766                4.0          1\n",
       "4545005    319435         691                8.0          1\n",
       "4545006   1398151       28733                9.0          0\n",
       "\n",
       "[4545007 rows x 4 columns]"
      ]
     },
     "metadata": {},
     "output_type": "display_data"
    },
    {
     "name": "stdout",
     "output_type": "stream",
     "text": [
      "<class 'pandas.core.frame.DataFrame'>\n",
      "RangeIndex: 4545007 entries, 0 to 4545006\n",
      "Data columns (total 4 columns):\n",
      " #   Column             Dtype  \n",
      "---  ------             -----  \n",
      " 0   order_id           int64  \n",
      " 1   product_id         int64  \n",
      " 2   add_to_cart_order  float64\n",
      " 3   reordered          int64  \n",
      "dtypes: float64(1), int64(3)\n",
      "memory usage: 138.7 MB\n"
     ]
    }
   ],
   "source": [
    "display(df_order_products)\n",
    "df_order_products.info()# show DataFrame information"
   ]
  },
  {
   "cell_type": "markdown",
   "metadata": {},
   "source": [
    "## Conclusions\n",
    "\n",
    "Write your intermediate conclusions for Step 1. Data Description here.\n",
    "\n",
    "It is evident that when displaying the different DataFrames automatically, an adjustment is needed to call them in a way that reflects a properly formatted DataFrame. Therefore, a modification is made in the call to display a DataFrame with separated and organized information, ready for further analysis.\n",
    "\n",
    "Another aspect observed is that there is a correlation between the different datasets, which will allow for cross-referencing information to support decision-making."
   ]
  },
  {
   "cell_type": "markdown",
   "metadata": {},
   "source": [
    "# Step 2. Data Preprocessing\n",
    "\n",
    "Preprocess the data as follows:\n",
    "\n",
    "Verify and correct data types (for example, ensure that ID columns are integers).\n",
    "Identify and fill in missing values.\n",
    "Identify and remove duplicate values.\n",
    "Make sure to explain what types of missing and duplicate values you found, how you filled or removed them, and why you used those methods. Why do you think these missing and duplicate values might have been present in the dataset?"
   ]
  },
  {
   "cell_type": "markdown",
   "metadata": {},
   "source": [
    "## Solution Plan\n",
    "\n",
    "Write your plan for Step 2. Data Preprocessing here.\n",
    "\n",
    "## The general steps would be:\n",
    "\n",
    "1. Validate each of the DataFrames by performing the main checks to ensure the information is correct.\n",
    "2. Perform checks and cross-checks between the DataFrames to confirm or reject any hypotheses or new findings that need to be verified.\n",
    "3. Visualize the data for better analysis.\n",
    "4. Make decisions and improvements to the process."
   ]
  },
  {
   "cell_type": "markdown",
   "metadata": {},
   "source": [
    "### `orders` data frame"
   ]
  },
  {
   "cell_type": "code",
   "execution_count": 8,
   "metadata": {},
   "outputs": [
    {
     "name": "stdout",
     "output_type": "stream",
     "text": [
      "\n",
      "A total of: 15 duplicates\n",
      "\n",
      "The list of duplicated orders are:\n",
      "[1918001, 794638, 408114, 2845099, 794638, 1112182, 1782114, 2125197, 2160484, 2160484, 1918001, 1021560, 467134, 1919531, 2282673]\n",
      "\n",
      "Sample of duplicate checks:\n"
     ]
    },
    {
     "data": {
      "text/html": [
       "<div>\n",
       "<style scoped>\n",
       "    .dataframe tbody tr th:only-of-type {\n",
       "        vertical-align: middle;\n",
       "    }\n",
       "\n",
       "    .dataframe tbody tr th {\n",
       "        vertical-align: top;\n",
       "    }\n",
       "\n",
       "    .dataframe thead th {\n",
       "        text-align: right;\n",
       "    }\n",
       "</style>\n",
       "<table border=\"1\" class=\"dataframe\">\n",
       "  <thead>\n",
       "    <tr style=\"text-align: right;\">\n",
       "      <th></th>\n",
       "      <th>order_id</th>\n",
       "      <th>user_id</th>\n",
       "      <th>order_number</th>\n",
       "      <th>order_dow</th>\n",
       "      <th>order_hour_of_day</th>\n",
       "      <th>days_since_prior_order</th>\n",
       "    </tr>\n",
       "  </thead>\n",
       "  <tbody>\n",
       "    <tr>\n",
       "      <th>30371</th>\n",
       "      <td>1918001</td>\n",
       "      <td>188546</td>\n",
       "      <td>14</td>\n",
       "      <td>3</td>\n",
       "      <td>2</td>\n",
       "      <td>16.0</td>\n",
       "    </tr>\n",
       "    <tr>\n",
       "      <th>230807</th>\n",
       "      <td>1918001</td>\n",
       "      <td>188546</td>\n",
       "      <td>14</td>\n",
       "      <td>3</td>\n",
       "      <td>2</td>\n",
       "      <td>16.0</td>\n",
       "    </tr>\n",
       "  </tbody>\n",
       "</table>\n",
       "</div>"
      ],
      "text/plain": [
       "        order_id  user_id  order_number  order_dow  order_hour_of_day  \\\n",
       "30371    1918001   188546            14          3                  2   \n",
       "230807   1918001   188546            14          3                  2   \n",
       "\n",
       "        days_since_prior_order  \n",
       "30371                     16.0  \n",
       "230807                    16.0  "
      ]
     },
     "metadata": {},
     "output_type": "display_data"
    },
    {
     "data": {
      "text/html": [
       "<div>\n",
       "<style scoped>\n",
       "    .dataframe tbody tr th:only-of-type {\n",
       "        vertical-align: middle;\n",
       "    }\n",
       "\n",
       "    .dataframe tbody tr th {\n",
       "        vertical-align: top;\n",
       "    }\n",
       "\n",
       "    .dataframe thead th {\n",
       "        text-align: right;\n",
       "    }\n",
       "</style>\n",
       "<table border=\"1\" class=\"dataframe\">\n",
       "  <thead>\n",
       "    <tr style=\"text-align: right;\">\n",
       "      <th></th>\n",
       "      <th>order_id</th>\n",
       "      <th>user_id</th>\n",
       "      <th>order_number</th>\n",
       "      <th>order_dow</th>\n",
       "      <th>order_hour_of_day</th>\n",
       "      <th>days_since_prior_order</th>\n",
       "    </tr>\n",
       "  </thead>\n",
       "  <tbody>\n",
       "    <tr>\n",
       "      <th>99462</th>\n",
       "      <td>794638</td>\n",
       "      <td>50898</td>\n",
       "      <td>24</td>\n",
       "      <td>3</td>\n",
       "      <td>2</td>\n",
       "      <td>2.0</td>\n",
       "    </tr>\n",
       "    <tr>\n",
       "      <th>145574</th>\n",
       "      <td>794638</td>\n",
       "      <td>50898</td>\n",
       "      <td>24</td>\n",
       "      <td>3</td>\n",
       "      <td>2</td>\n",
       "      <td>2.0</td>\n",
       "    </tr>\n",
       "  </tbody>\n",
       "</table>\n",
       "</div>"
      ],
      "text/plain": [
       "        order_id  user_id  order_number  order_dow  order_hour_of_day  \\\n",
       "99462     794638    50898            24          3                  2   \n",
       "145574    794638    50898            24          3                  2   \n",
       "\n",
       "        days_since_prior_order  \n",
       "99462                      2.0  \n",
       "145574                     2.0  "
      ]
     },
     "metadata": {},
     "output_type": "display_data"
    },
    {
     "data": {
      "text/html": [
       "<div>\n",
       "<style scoped>\n",
       "    .dataframe tbody tr th:only-of-type {\n",
       "        vertical-align: middle;\n",
       "    }\n",
       "\n",
       "    .dataframe tbody tr th {\n",
       "        vertical-align: top;\n",
       "    }\n",
       "\n",
       "    .dataframe thead th {\n",
       "        text-align: right;\n",
       "    }\n",
       "</style>\n",
       "<table border=\"1\" class=\"dataframe\">\n",
       "  <thead>\n",
       "    <tr style=\"text-align: right;\">\n",
       "      <th></th>\n",
       "      <th>order_id</th>\n",
       "      <th>user_id</th>\n",
       "      <th>order_number</th>\n",
       "      <th>order_dow</th>\n",
       "      <th>order_hour_of_day</th>\n",
       "      <th>days_since_prior_order</th>\n",
       "    </tr>\n",
       "  </thead>\n",
       "  <tbody>\n",
       "    <tr>\n",
       "      <th>164581</th>\n",
       "      <td>1112182</td>\n",
       "      <td>202304</td>\n",
       "      <td>84</td>\n",
       "      <td>3</td>\n",
       "      <td>2</td>\n",
       "      <td>6.0</td>\n",
       "    </tr>\n",
       "    <tr>\n",
       "      <th>273805</th>\n",
       "      <td>1112182</td>\n",
       "      <td>202304</td>\n",
       "      <td>84</td>\n",
       "      <td>3</td>\n",
       "      <td>2</td>\n",
       "      <td>6.0</td>\n",
       "    </tr>\n",
       "  </tbody>\n",
       "</table>\n",
       "</div>"
      ],
      "text/plain": [
       "        order_id  user_id  order_number  order_dow  order_hour_of_day  \\\n",
       "164581   1112182   202304            84          3                  2   \n",
       "273805   1112182   202304            84          3                  2   \n",
       "\n",
       "        days_since_prior_order  \n",
       "164581                     6.0  \n",
       "273805                     6.0  "
      ]
     },
     "metadata": {},
     "output_type": "display_data"
    }
   ],
   "source": [
    "# Check for Duplicate Orders\n",
    "dup_col = df_orders.duplicated().sum()#sThe duplicated function is called to check if there is any duplicate information in the entire DataFrame.\n",
    "dup_col1 = df_orders[df_orders['order_id'].duplicated(keep=False)]['order_id'].tolist()#The duplicated order data is displayed.\n",
    "\n",
    "print()\n",
    "print(\"A total of:\", dup_col, \"duplicates\")# The number of duplicates is shown.\n",
    "print()\n",
    "print(\"The list of duplicated orders are:\")\n",
    "print(dup_col1[:15]) #A list of the duplicated orders is displayed.\n",
    "print()\n",
    "print(\"Sample of duplicate checks:\")\n",
    "display(df_orders[df_orders['order_id']==1918001])# A check is performed to confirm if the entire row is identical.\n",
    "\n",
    "display(df_orders[df_orders['order_id']==794638])# A check is performed to confirm if the entire row is identical.\n",
    "\n",
    "display(df_orders[df_orders['order_id']==1112182])# A check is performed to confirm if the entire row is identical."
   ]
  },
  {
   "cell_type": "markdown",
   "metadata": {},
   "source": [
    "Do you have duplicate rows? If yes, what do they have in common?\n",
    "\n",
    "If duplicates appear in the orders DataFrame, a total of 15 duplicates are found, as shown in the code details above. The repeated orders are listed, and it is evident that the duplicated data is the entire order information. In the previous step, a check is performed on the duplicates to verify the information displayed, and indeed, the rows are completely repeated. Additionally, it is noted that the transactions occurred on Wednesday at 2 AM."
   ]
  },
  {
   "cell_type": "code",
   "execution_count": 9,
   "metadata": {},
   "outputs": [
    {
     "name": "stdout",
     "output_type": "stream",
     "text": [
      "<class 'pandas.core.frame.DataFrame'>\n",
      "Index: 121 entries, 4838 to 477526\n",
      "Data columns (total 6 columns):\n",
      " #   Column                  Non-Null Count  Dtype  \n",
      "---  ------                  --------------  -----  \n",
      " 0   order_id                121 non-null    int64  \n",
      " 1   user_id                 121 non-null    int64  \n",
      " 2   order_number            121 non-null    int64  \n",
      " 3   order_dow               121 non-null    int64  \n",
      " 4   order_hour_of_day       121 non-null    int64  \n",
      " 5   days_since_prior_order  114 non-null    float64\n",
      "dtypes: float64(1), int64(5)\n",
      "memory usage: 6.6 KB\n",
      "\n",
      "Se presentan:  15 filas duplicados\n"
     ]
    }
   ],
   "source": [
    "# Based on your findings, Verify all orders placed on Wednesday at 2:00 AM.\n",
    "comp1 = df_orders[(df_orders['order_dow']== 3) & (df_orders['order_hour_of_day'] == 2)] #The filtering is performed based on the parameters for Wednesday at 2:00 AM. \n",
    "comp1.info()\n",
    "print()\n",
    "print(\"Se presentan: \", comp1.duplicated().sum(), \"filas duplicados\") #After checking this reduced DataFrame and applying the duplicated function,\n",
    "#it is confirmed that all the duplicates are from this specific day and time frame. It is recommended to investigate what happened on this day and \n",
    "# make the necessary corrections."
   ]
  },
  {
   "cell_type": "markdown",
   "metadata": {},
   "source": [
    "What does this result suggest?\n",
    "\n",
    "By verifying the specified time frame of Wednesday at 2:00 AM, we find 121 records. A detailed check is performed by applying the duplicated function, as we hypothesize that all the duplicates fall within this time frame. After reapplying the duplicated function to this filtered DataFrame, it shows that the duplicated data from the entire DataFrame is concentrated and focused in this specific area. Therefore, it is recommended to investigate what happened during this time period and make the necessary corrections."
   ]
  },
  {
   "cell_type": "code",
   "execution_count": 10,
   "metadata": {},
   "outputs": [],
   "source": [
    "# Remove Duplicate Orders\n",
    "df_orders = df_orders.drop_duplicates().reset_index(drop=True)"
   ]
  },
  {
   "cell_type": "code",
   "execution_count": 11,
   "metadata": {},
   "outputs": [
    {
     "name": "stdout",
     "output_type": "stream",
     "text": [
      "0\n"
     ]
    }
   ],
   "source": [
    "# Verify again if there are any duplicate rows.\n",
    "dup_col = df_orders.duplicated().sum()\n",
    "print(dup_col)"
   ]
  },
  {
   "cell_type": "code",
   "execution_count": 12,
   "metadata": {},
   "outputs": [
    {
     "name": "stdout",
     "output_type": "stream",
     "text": [
      "0\n"
     ]
    }
   ],
   "source": [
    "# Verify again if there are only duplicate order IDs.\n",
    "dup_ID = df_orders['order_id'].duplicated().sum()\n",
    "print(dup_ID)"
   ]
  },
  {
   "cell_type": "markdown",
   "metadata": {},
   "source": [
    "Briefly describe your findings and what you did with them:\n",
    "\n",
    "It was established that during the time frame on Wednesday (3) at 2:00 AM (2), there was information with duplicate records, as 15 purchase codes appeared with duplicate information across the entire row. To make the necessary adjustments, identification and cleaning of these data were performed. This prevented distortion in the data. The duplicates were then removed, and a final check was done to ensure that no duplicates remained in the DataFrame."
   ]
  },
  {
   "cell_type": "markdown",
   "metadata": {},
   "source": [
    "### `products` data frame"
   ]
  },
  {
   "cell_type": "code",
   "execution_count": 13,
   "metadata": {},
   "outputs": [
    {
     "name": "stdout",
     "output_type": "stream",
     "text": [
      "0\n"
     ]
    }
   ],
   "source": [
    "# Verify if there are completely duplicate rows\n",
    "print(df_products.duplicated().sum())"
   ]
  },
  {
   "cell_type": "code",
   "execution_count": 14,
   "metadata": {},
   "outputs": [
    {
     "name": "stdout",
     "output_type": "stream",
     "text": [
      "department_id\n",
      "1     4008\n",
      "2      548\n",
      "3     1516\n",
      "4     1684\n",
      "5     1054\n",
      "6     1139\n",
      "7     4366\n",
      "8      972\n",
      "9     1858\n",
      "10      38\n",
      "11    6564\n",
      "12     907\n",
      "13    5372\n",
      "14    1117\n",
      "15    2092\n",
      "16    3449\n",
      "17    3085\n",
      "18    1081\n",
      "19    6264\n",
      "20    1322\n",
      "21    1258\n",
      "Name: count, dtype: int64\n"
     ]
    }
   ],
   "source": [
    "# Check only for duplicated department IDs\n",
    "print(df_products['department_id'].value_counts(dropna=True).sort_index())"
   ]
  },
  {
   "cell_type": "code",
   "execution_count": 15,
   "metadata": {},
   "outputs": [
    {
     "name": "stdout",
     "output_type": "stream",
     "text": [
      "product_name\n",
      "GREEN TEA WITH GINSENG AND HONEY                                        3\n",
      "CARROT AND CELERY STICKS                                                2\n",
      "APRICOT ENERGY BAR                                                      2\n",
      "TOP THE TATER CHIVE & ONION SOUR CREAM                                  2\n",
      "PROACTIVE HEALTH INDOOR WEIGHT & HAIRBALL CARE WITH CHICKEN CAT FOOD    2\n",
      "                                                                       ..\n",
      "ALL NATURAL CHICKEN APPLE SAUSAGE                                       1\n",
      "QUARTERED ARTICHOKE HEARTS                                              1\n",
      "BIG EYE IPA                                                             1\n",
      "UNSTOPABLES LUSH                                                        1\n",
      "FRESH FOAMING CLEANSER                                                  1\n",
      "Name: count, Length: 48332, dtype: int64\n",
      "\n",
      "A total of  0 duplicated\n",
      "\n"
     ]
    },
    {
     "data": {
      "text/html": [
       "<div>\n",
       "<style scoped>\n",
       "    .dataframe tbody tr th:only-of-type {\n",
       "        vertical-align: middle;\n",
       "    }\n",
       "\n",
       "    .dataframe tbody tr th {\n",
       "        vertical-align: top;\n",
       "    }\n",
       "\n",
       "    .dataframe thead th {\n",
       "        text-align: right;\n",
       "    }\n",
       "</style>\n",
       "<table border=\"1\" class=\"dataframe\">\n",
       "  <thead>\n",
       "    <tr style=\"text-align: right;\">\n",
       "      <th></th>\n",
       "      <th>product_id</th>\n",
       "      <th>product_name</th>\n",
       "      <th>aisle_id</th>\n",
       "      <th>department_id</th>\n",
       "    </tr>\n",
       "  </thead>\n",
       "  <tbody>\n",
       "    <tr>\n",
       "      <th>2037</th>\n",
       "      <td>2038</td>\n",
       "      <td>GREEN TEA WITH GINSENG AND HONEY</td>\n",
       "      <td>94</td>\n",
       "      <td>7</td>\n",
       "    </tr>\n",
       "    <tr>\n",
       "      <th>5455</th>\n",
       "      <td>5456</td>\n",
       "      <td>GREEN TEA WITH GINSENG AND HONEY</td>\n",
       "      <td>96</td>\n",
       "      <td>20</td>\n",
       "    </tr>\n",
       "    <tr>\n",
       "      <th>19813</th>\n",
       "      <td>19814</td>\n",
       "      <td>GREEN TEA WITH GINSENG AND HONEY</td>\n",
       "      <td>94</td>\n",
       "      <td>7</td>\n",
       "    </tr>\n",
       "  </tbody>\n",
       "</table>\n",
       "</div>"
      ],
      "text/plain": [
       "       product_id                      product_name  aisle_id  department_id\n",
       "2037         2038  GREEN TEA WITH GINSENG AND HONEY        94              7\n",
       "5455         5456  GREEN TEA WITH GINSENG AND HONEY        96             20\n",
       "19813       19814  GREEN TEA WITH GINSENG AND HONEY        94              7"
      ]
     },
     "metadata": {},
     "output_type": "display_data"
    }
   ],
   "source": [
    "# Check only for duplicated product names (convert the names to uppercase to compare them better)\n",
    "df_products['product_name'] = df_products['product_name'].str.upper() #The column is converted to uppercase.\n",
    "pn1= df_products['product_name'].value_counts() #Validation is performed to check how many times each product name is repeated.\n",
    "print(pn1)\n",
    "print()\n",
    "print(\"A total of \", df_products.duplicated().sum(), \"duplicated\") #A check is performed to identify how many duplicates appear.\n",
    "print()\n",
    "display(df_products[df_products['product_name']==\"GREEN TEA WITH GINSENG AND HONEY\"])\n",
    "#A repeated product name is extracted, and it is evident that the duplication occurs only in the product name. The rest of the information does \n",
    "#not repeat, as it has a different product_id."
   ]
  },
  {
   "cell_type": "code",
   "execution_count": 16,
   "metadata": {},
   "outputs": [
    {
     "name": "stdout",
     "output_type": "stream",
     "text": [
      "       product_id product_name  aisle_id  department_id\n",
      "37             38          NaN       100             21\n",
      "71             72          NaN       100             21\n",
      "109           110          NaN       100             21\n",
      "296           297          NaN       100             21\n",
      "416           417          NaN       100             21\n",
      "...           ...          ...       ...            ...\n",
      "49552       49553          NaN       100             21\n",
      "49574       49575          NaN       100             21\n",
      "49640       49641          NaN       100             21\n",
      "49663       49664          NaN       100             21\n",
      "49668       49669          NaN       100             21\n",
      "\n",
      "[1258 rows x 4 columns]\n"
     ]
    }
   ],
   "source": [
    "# Check for duplicate product names that are not missing\n",
    "print(df_products[df_products['product_name'].isna()])\n",
    "#Missing values for product names are extracted, and it is evident that there are entries with no product name information. Additionally, it is \n",
    "# identified that all of these missing names are located in department 21."
   ]
  },
  {
   "cell_type": "markdown",
   "metadata": {},
   "source": [
    "Briefly describe your findings and what you did with them.\n",
    "\n",
    "It was established from this DataFrame that there are no duplicates, as each product has a unique ID. It was confirmed that there are 21 departments, and all products without a product name are concentrated in department 21. For analysis purposes, it was decided to exclude this department."
   ]
  },
  {
   "cell_type": "markdown",
   "metadata": {},
   "source": [
    "### `departments` data frame"
   ]
  },
  {
   "cell_type": "code",
   "execution_count": 17,
   "metadata": {},
   "outputs": [
    {
     "name": "stdout",
     "output_type": "stream",
     "text": [
      "It´s  0 duplicated\n",
      "\n",
      "Empty DataFrame\n",
      "Columns: [department_id, department]\n",
      "Index: []\n"
     ]
    }
   ],
   "source": [
    "# Check if there are completely duplicate rows\n",
    "print(\"It´s \", df_departments.duplicated().sum(), \"duplicated\")\n",
    "print()\n",
    "print(df_departments[df_departments['department_id'].isna()])"
   ]
  },
  {
   "cell_type": "code",
   "execution_count": 18,
   "metadata": {},
   "outputs": [
    {
     "name": "stdout",
     "output_type": "stream",
     "text": [
      "department_id\n",
      "1     1\n",
      "2     1\n",
      "3     1\n",
      "4     1\n",
      "5     1\n",
      "6     1\n",
      "7     1\n",
      "8     1\n",
      "9     1\n",
      "10    1\n",
      "11    1\n",
      "12    1\n",
      "13    1\n",
      "14    1\n",
      "15    1\n",
      "16    1\n",
      "17    1\n",
      "18    1\n",
      "19    1\n",
      "20    1\n",
      "21    1\n",
      "Name: count, dtype: int64\n"
     ]
    }
   ],
   "source": [
    "# Check only for duplicated department IDs\n",
    "print(df_departments['department_id'].value_counts(dropna=True).sort_index())"
   ]
  },
  {
   "cell_type": "markdown",
   "metadata": {},
   "source": [
    "Briefly describe your findings and what you did with them.\n",
    "\n",
    "The DataFrame was verified, showing no duplicate information. It was confirmed from the products DataFrame that \"all products without a product name or with missing information are concentrated in Department 21, which should be excluded from analysis.\" This department could be flagged for the company to clean up this information. Additionally, checks for duplicate and missing values were conducted, and none were found."
   ]
  },
  {
   "cell_type": "markdown",
   "metadata": {},
   "source": [
    "### `aisles` data frame"
   ]
  },
  {
   "cell_type": "code",
   "execution_count": 19,
   "metadata": {},
   "outputs": [
    {
     "name": "stdout",
     "output_type": "stream",
     "text": [
      "It´s  0 duplicated\n"
     ]
    }
   ],
   "source": [
    "# Check if there are completely duplicate rows\n",
    "print(\"It´s \", df_aisles.duplicated().sum(), \"duplicated\")"
   ]
  },
  {
   "cell_type": "code",
   "execution_count": 20,
   "metadata": {},
   "outputs": [
    {
     "name": "stdout",
     "output_type": "stream",
     "text": [
      "0\n",
      "0\n",
      "Empty DataFrame\n",
      "Columns: [aisle_id, aisle]\n",
      "Index: []\n"
     ]
    }
   ],
   "source": [
    "# Check only for duplicated grocery IDs\n",
    "print(df_aisles['aisle_id'].duplicated().sum())\n",
    "print(df_aisles['aisle'].duplicated().sum())\n",
    "print(df_aisles[df_aisles['aisle'].isna()])"
   ]
  },
  {
   "cell_type": "markdown",
   "metadata": {},
   "source": [
    "Briefly describe your findings and what you did with them.\n",
    "\n",
    "The DataFrame was checked and contains no duplicate information. Additionally, checks were conducted for duplicate and missing values, neither of which were found."
   ]
  },
  {
   "cell_type": "markdown",
   "metadata": {},
   "source": [
    "### `order_products` data frame"
   ]
  },
  {
   "cell_type": "code",
   "execution_count": 21,
   "metadata": {},
   "outputs": [
    {
     "name": "stdout",
     "output_type": "stream",
     "text": [
      "It´s  0 duplicated\n"
     ]
    }
   ],
   "source": [
    "# Check if there are completely duplicate rows\n",
    "print(\"It´s \", df_order_products.duplicated().sum(), \"duplicated\")"
   ]
  },
  {
   "cell_type": "code",
   "execution_count": 22,
   "metadata": {},
   "outputs": [
    {
     "name": "stdout",
     "output_type": "stream",
     "text": [
      "4094961\n",
      "\n",
      "4499434\n",
      "\n",
      "order_id\n",
      "61355      127\n",
      "3308010    115\n",
      "2136777    108\n",
      "171934     104\n",
      "1959075     98\n",
      "          ... \n",
      "3076918      1\n",
      "2499566      1\n",
      "556604       1\n",
      "171279       1\n",
      "1461911      1\n",
      "Name: count, Length: 450046, dtype: int64\n",
      "\n"
     ]
    },
    {
     "data": {
      "text/html": [
       "<div>\n",
       "<style scoped>\n",
       "    .dataframe tbody tr th:only-of-type {\n",
       "        vertical-align: middle;\n",
       "    }\n",
       "\n",
       "    .dataframe tbody tr th {\n",
       "        vertical-align: top;\n",
       "    }\n",
       "\n",
       "    .dataframe thead th {\n",
       "        text-align: right;\n",
       "    }\n",
       "</style>\n",
       "<table border=\"1\" class=\"dataframe\">\n",
       "  <thead>\n",
       "    <tr style=\"text-align: right;\">\n",
       "      <th></th>\n",
       "      <th>order_id</th>\n",
       "      <th>product_id</th>\n",
       "      <th>add_to_cart_order</th>\n",
       "      <th>reordered</th>\n",
       "    </tr>\n",
       "  </thead>\n",
       "  <tbody>\n",
       "    <tr>\n",
       "      <th>57981</th>\n",
       "      <td>61355</td>\n",
       "      <td>5322</td>\n",
       "      <td>NaN</td>\n",
       "      <td>0</td>\n",
       "    </tr>\n",
       "    <tr>\n",
       "      <th>149404</th>\n",
       "      <td>61355</td>\n",
       "      <td>39475</td>\n",
       "      <td>45.0</td>\n",
       "      <td>0</td>\n",
       "    </tr>\n",
       "    <tr>\n",
       "      <th>247893</th>\n",
       "      <td>61355</td>\n",
       "      <td>8594</td>\n",
       "      <td>NaN</td>\n",
       "      <td>0</td>\n",
       "    </tr>\n",
       "    <tr>\n",
       "      <th>269840</th>\n",
       "      <td>61355</td>\n",
       "      <td>14233</td>\n",
       "      <td>5.0</td>\n",
       "      <td>0</td>\n",
       "    </tr>\n",
       "    <tr>\n",
       "      <th>345399</th>\n",
       "      <td>61355</td>\n",
       "      <td>24010</td>\n",
       "      <td>51.0</td>\n",
       "      <td>0</td>\n",
       "    </tr>\n",
       "    <tr>\n",
       "      <th>...</th>\n",
       "      <td>...</td>\n",
       "      <td>...</td>\n",
       "      <td>...</td>\n",
       "      <td>...</td>\n",
       "    </tr>\n",
       "    <tr>\n",
       "      <th>4426514</th>\n",
       "      <td>61355</td>\n",
       "      <td>29270</td>\n",
       "      <td>15.0</td>\n",
       "      <td>0</td>\n",
       "    </tr>\n",
       "    <tr>\n",
       "      <th>4482168</th>\n",
       "      <td>61355</td>\n",
       "      <td>24964</td>\n",
       "      <td>33.0</td>\n",
       "      <td>0</td>\n",
       "    </tr>\n",
       "    <tr>\n",
       "      <th>4515077</th>\n",
       "      <td>61355</td>\n",
       "      <td>6760</td>\n",
       "      <td>27.0</td>\n",
       "      <td>0</td>\n",
       "    </tr>\n",
       "    <tr>\n",
       "      <th>4521208</th>\n",
       "      <td>61355</td>\n",
       "      <td>16262</td>\n",
       "      <td>62.0</td>\n",
       "      <td>0</td>\n",
       "    </tr>\n",
       "    <tr>\n",
       "      <th>4525165</th>\n",
       "      <td>61355</td>\n",
       "      <td>24561</td>\n",
       "      <td>54.0</td>\n",
       "      <td>0</td>\n",
       "    </tr>\n",
       "  </tbody>\n",
       "</table>\n",
       "<p>127 rows × 4 columns</p>\n",
       "</div>"
      ],
      "text/plain": [
       "         order_id  product_id  add_to_cart_order  reordered\n",
       "57981       61355        5322                NaN          0\n",
       "149404      61355       39475               45.0          0\n",
       "247893      61355        8594                NaN          0\n",
       "269840      61355       14233                5.0          0\n",
       "345399      61355       24010               51.0          0\n",
       "...           ...         ...                ...        ...\n",
       "4426514     61355       29270               15.0          0\n",
       "4482168     61355       24964               33.0          0\n",
       "4515077     61355        6760               27.0          0\n",
       "4521208     61355       16262               62.0          0\n",
       "4525165     61355       24561               54.0          0\n",
       "\n",
       "[127 rows x 4 columns]"
      ]
     },
     "metadata": {},
     "output_type": "display_data"
    },
    {
     "name": "stdout",
     "output_type": "stream",
     "text": [
      "\n",
      "product_id\n",
      "24852    66050\n",
      "13176    53297\n",
      "21137    37039\n",
      "21903    33971\n",
      "47209    29773\n",
      "         ...  \n",
      "47987        1\n",
      "26408        1\n",
      "24435        1\n",
      "36946        1\n",
      "40024        1\n",
      "Name: count, Length: 45573, dtype: int64\n",
      "\n"
     ]
    },
    {
     "data": {
      "text/html": [
       "<div>\n",
       "<style scoped>\n",
       "    .dataframe tbody tr th:only-of-type {\n",
       "        vertical-align: middle;\n",
       "    }\n",
       "\n",
       "    .dataframe tbody tr th {\n",
       "        vertical-align: top;\n",
       "    }\n",
       "\n",
       "    .dataframe thead th {\n",
       "        text-align: right;\n",
       "    }\n",
       "</style>\n",
       "<table border=\"1\" class=\"dataframe\">\n",
       "  <thead>\n",
       "    <tr style=\"text-align: right;\">\n",
       "      <th></th>\n",
       "      <th>order_id</th>\n",
       "      <th>product_id</th>\n",
       "      <th>add_to_cart_order</th>\n",
       "      <th>reordered</th>\n",
       "    </tr>\n",
       "  </thead>\n",
       "  <tbody>\n",
       "    <tr>\n",
       "      <th>100</th>\n",
       "      <td>194806</td>\n",
       "      <td>24852</td>\n",
       "      <td>3.0</td>\n",
       "      <td>1</td>\n",
       "    </tr>\n",
       "    <tr>\n",
       "      <th>109</th>\n",
       "      <td>3176371</td>\n",
       "      <td>24852</td>\n",
       "      <td>1.0</td>\n",
       "      <td>1</td>\n",
       "    </tr>\n",
       "    <tr>\n",
       "      <th>151</th>\n",
       "      <td>1442232</td>\n",
       "      <td>24852</td>\n",
       "      <td>3.0</td>\n",
       "      <td>1</td>\n",
       "    </tr>\n",
       "    <tr>\n",
       "      <th>310</th>\n",
       "      <td>1400886</td>\n",
       "      <td>24852</td>\n",
       "      <td>4.0</td>\n",
       "      <td>0</td>\n",
       "    </tr>\n",
       "    <tr>\n",
       "      <th>362</th>\n",
       "      <td>1926105</td>\n",
       "      <td>24852</td>\n",
       "      <td>3.0</td>\n",
       "      <td>1</td>\n",
       "    </tr>\n",
       "    <tr>\n",
       "      <th>...</th>\n",
       "      <td>...</td>\n",
       "      <td>...</td>\n",
       "      <td>...</td>\n",
       "      <td>...</td>\n",
       "    </tr>\n",
       "    <tr>\n",
       "      <th>4544722</th>\n",
       "      <td>3006846</td>\n",
       "      <td>24852</td>\n",
       "      <td>2.0</td>\n",
       "      <td>1</td>\n",
       "    </tr>\n",
       "    <tr>\n",
       "      <th>4544731</th>\n",
       "      <td>2713872</td>\n",
       "      <td>24852</td>\n",
       "      <td>7.0</td>\n",
       "      <td>1</td>\n",
       "    </tr>\n",
       "    <tr>\n",
       "      <th>4544823</th>\n",
       "      <td>2774827</td>\n",
       "      <td>24852</td>\n",
       "      <td>2.0</td>\n",
       "      <td>1</td>\n",
       "    </tr>\n",
       "    <tr>\n",
       "      <th>4544842</th>\n",
       "      <td>3402221</td>\n",
       "      <td>24852</td>\n",
       "      <td>1.0</td>\n",
       "      <td>1</td>\n",
       "    </tr>\n",
       "    <tr>\n",
       "      <th>4544999</th>\n",
       "      <td>1622300</td>\n",
       "      <td>24852</td>\n",
       "      <td>1.0</td>\n",
       "      <td>1</td>\n",
       "    </tr>\n",
       "  </tbody>\n",
       "</table>\n",
       "<p>66050 rows × 4 columns</p>\n",
       "</div>"
      ],
      "text/plain": [
       "         order_id  product_id  add_to_cart_order  reordered\n",
       "100        194806       24852                3.0          1\n",
       "109       3176371       24852                1.0          1\n",
       "151       1442232       24852                3.0          1\n",
       "310       1400886       24852                4.0          0\n",
       "362       1926105       24852                3.0          1\n",
       "...           ...         ...                ...        ...\n",
       "4544722   3006846       24852                2.0          1\n",
       "4544731   2713872       24852                7.0          1\n",
       "4544823   2774827       24852                2.0          1\n",
       "4544842   3402221       24852                1.0          1\n",
       "4544999   1622300       24852                1.0          1\n",
       "\n",
       "[66050 rows x 4 columns]"
      ]
     },
     "metadata": {},
     "output_type": "display_data"
    },
    {
     "name": "stdout",
     "output_type": "stream",
     "text": [
      "\n",
      "         order_id  product_id  add_to_cart_order  reordered\n",
      "737       2449164        5068                NaN          0\n",
      "9926      1968313       43867                NaN          0\n",
      "14394     2926893       11688                NaN          0\n",
      "16418     1717990        4142                NaN          0\n",
      "30114     1959075       42828                NaN          1\n",
      "...           ...         ...                ...        ...\n",
      "4505662   1800005        7411                NaN          0\n",
      "4511400   1633337         260                NaN          0\n",
      "4517562    404157        9517                NaN          0\n",
      "4534112   1673227       17835                NaN          0\n",
      "4535739   1832957       17949                NaN          1\n",
      "\n",
      "[836 rows x 4 columns]\n"
     ]
    }
   ],
   "source": [
    "# Check again for any other misleading duplicates\n",
    "print(df_order_products['order_id'].duplicated().sum())\n",
    "print()\n",
    "print(df_order_products['product_id'].duplicated().sum())\n",
    "print()\n",
    "print(df_order_products['order_id'].value_counts(dropna=False))\n",
    "print()\n",
    "display(df_order_products[df_order_products['order_id']==61355])\n",
    "print()\n",
    "print(df_order_products['product_id'].value_counts(dropna=False))\n",
    "print()\n",
    "display(df_order_products[df_order_products['product_id']==24852])\n",
    "print()\n",
    "print(df_order_products[df_order_products['add_to_cart_order'].isna()])"
   ]
  },
  {
   "cell_type": "markdown",
   "metadata": {},
   "source": [
    "Brief Summary of Findings and Actions Taken\n",
    "\n",
    "A validation of the DataFrame was conducted with the following steps:\n",
    "\n",
    "    * A general check for duplicates in the entire DataFrame confirmed that no duplicates were present.\n",
    "    * Column-specific checks showed repeated entries for order_id and product_id. However, these repeats reflect different products within the same order (order_id repeats) and individual products included in multiple orders (product_id repeats), which is expected and does not impact the analysis.\n",
    "    * A final check of the add_to_cart_order column revealed some missing values, indicating that these products did not have a specific placement order within the cart for certain purchases."
   ]
  },
  {
   "cell_type": "markdown",
   "metadata": {},
   "source": [
    "## Find and Remove Missing Values\n",
    "\n",
    "When working with duplicate values, we also observed some missing values that need further investigation:\n",
    "\n",
    "* The `'product_name`' column in the products table.\n",
    "* The `'days_since_prior_order`' column in the orders table.\n",
    "* The `'add_to_cart_order`'column in the order_products table."
   ]
  },
  {
   "cell_type": "markdown",
   "metadata": {},
   "source": [
    "### `products` data frame"
   ]
  },
  {
   "cell_type": "code",
   "execution_count": 23,
   "metadata": {},
   "outputs": [
    {
     "name": "stdout",
     "output_type": "stream",
     "text": [
      "       product_id product_name  aisle_id  department_id\n",
      "37             38          NaN       100             21\n",
      "71             72          NaN       100             21\n",
      "109           110          NaN       100             21\n",
      "296           297          NaN       100             21\n",
      "416           417          NaN       100             21\n",
      "...           ...          ...       ...            ...\n",
      "49552       49553          NaN       100             21\n",
      "49574       49575          NaN       100             21\n",
      "49640       49641          NaN       100             21\n",
      "49663       49664          NaN       100             21\n",
      "49668       49669          NaN       100             21\n",
      "\n",
      "[1258 rows x 4 columns]\n",
      "\n",
      "product_name\n",
      "NaN                                                                     1258\n",
      "GREEN TEA WITH GINSENG AND HONEY                                           3\n",
      "CARROT AND CELERY STICKS                                                   2\n",
      "APRICOT ENERGY BAR                                                         2\n",
      "PROACTIVE HEALTH INDOOR WEIGHT & HAIRBALL CARE WITH CHICKEN CAT FOOD       2\n",
      "                                                                        ... \n",
      "ALL NATURAL CHICKEN APPLE SAUSAGE                                          1\n",
      "QUARTERED ARTICHOKE HEARTS                                                 1\n",
      "BIG EYE IPA                                                                1\n",
      "UNSTOPABLES LUSH                                                           1\n",
      "FRESH FOAMING CLEANSER                                                     1\n",
      "Name: count, Length: 48333, dtype: int64\n"
     ]
    }
   ],
   "source": [
    "# Find the missing values in the 'product_name' column\"\n",
    "print(df_products[df_products['product_name'].isna()])\n",
    "print()\n",
    "print(df_products['product_name'].value_counts(dropna=False))"
   ]
  },
  {
   "cell_type": "markdown",
   "metadata": {},
   "source": [
    "Briefly describe your findings.\n",
    "Upon validating in two different ways and focusing on the missing values, it is established and confirmed as previously mentioned, where it was clarified that there is a department where data without results is concentrated."
   ]
  },
  {
   "cell_type": "code",
   "execution_count": 24,
   "metadata": {},
   "outputs": [
    {
     "name": "stdout",
     "output_type": "stream",
     "text": [
      "aisle_id\n",
      "100    1258\n",
      "Name: count, dtype: int64\n",
      "\n",
      "aisle_id        100\n",
      "aisle       missing\n",
      "Name: 99, dtype: object\n"
     ]
    }
   ],
   "source": [
    "#  ¿All missing product names are related to the aisle with ID 100.?\n",
    "\n",
    "j1 = df_products[df_products['product_name'].isna()]\n",
    "j1 = j1['aisle_id'].value_counts(dropna=False)\n",
    "print(j1)\n",
    "print()\n",
    "j2 = df_aisles.iloc[99]\n",
    "print(j2)"
   ]
  },
  {
   "cell_type": "markdown",
   "metadata": {},
   "source": [
    "Briefly describe your findings: An \n",
    "extraction of information was performed, and all 1,258 missing data points in 'df_products' are related to aisle 100, which is associated with the 'missing' or 'lost' aisle.\""
   ]
  },
  {
   "cell_type": "code",
   "execution_count": 25,
   "metadata": {},
   "outputs": [
    {
     "name": "stdout",
     "output_type": "stream",
     "text": [
      "department_id\n",
      "21    1258\n",
      "Name: count, dtype: int64\n",
      "\n",
      "department_id         21\n",
      "department       missing\n",
      "Name: 20, dtype: object\n"
     ]
    }
   ],
   "source": [
    "# Are all missing product names related to the department with ID 21?\n",
    "j3 = df_products[df_products['product_name'].isna()]\n",
    "j3 = j3['department_id'].value_counts(dropna=False)\n",
    "print(j3)\n",
    "print()\n",
    "j4 = df_departments.iloc[20]\n",
    "print(j4)"
   ]
  },
  {
   "cell_type": "markdown",
   "metadata": {},
   "source": [
    "Briefly describe your findings. \n",
    "\n",
    "An extraction of information was performed, and all 1,258 missing data points in 'df_products' are related to department 21, which is associated with the 'missing or lost' department.\""
   ]
  },
  {
   "cell_type": "code",
   "execution_count": 26,
   "metadata": {},
   "outputs": [
    {
     "name": "stdout",
     "output_type": "stream",
     "text": [
      "aisle_id        100\n",
      "aisle       missing\n",
      "Name: 99, dtype: object\n",
      "\n",
      "department_id         21\n",
      "department       missing\n",
      "Name: 20, dtype: object\n"
     ]
    }
   ],
   "source": [
    "# Use the department and aisle tables to check the data for aisle ID 100 and department ID 21\n",
    "print(j2) # Extract the aisle data to identify what aisle ID 100 refers to, which indicates 'missing' or lost.\n",
    "print()\n",
    "print(j4) # Extract the department data to identify what department ID 21 refers to, which also indicates 'missing' or lost."
   ]
  },
  {
   "cell_type": "markdown",
   "metadata": {},
   "source": [
    "Briefly describe your findings.\n",
    "\n",
    "Both codes are focused on identifying the 'missing' aisle and 'missing' department."
   ]
  },
  {
   "cell_type": "code",
   "execution_count": 27,
   "metadata": {},
   "outputs": [
    {
     "name": "stdout",
     "output_type": "stream",
     "text": [
      "       product_id product_name  aisle_id  department_id\n",
      "37             38      Unknown       100             21\n",
      "71             72      Unknown       100             21\n",
      "109           110      Unknown       100             21\n",
      "296           297      Unknown       100             21\n",
      "416           417      Unknown       100             21\n",
      "...           ...          ...       ...            ...\n",
      "49552       49553      Unknown       100             21\n",
      "49574       49575      Unknown       100             21\n",
      "49640       49641      Unknown       100             21\n",
      "49663       49664      Unknown       100             21\n",
      "49668       49669      Unknown       100             21\n",
      "\n",
      "[1258 rows x 4 columns]\n"
     ]
    }
   ],
   "source": [
    "# Complete the missing product names with 'Unknown'\n",
    "df_products['product_name'] = df_products['product_name'].fillna('Unknown')\n",
    "print(df_products[df_products['product_name']==\"Unknown\"])"
   ]
  },
  {
   "cell_type": "markdown",
   "metadata": {},
   "source": [
    "Briefly describe your findings and what you did with them.\n",
    "\n",
    "The missing values are filled with the word 'Unknown' in order to establish and proceed with the following information analysis. Once replaced, they are incorporated into the dataframe."
   ]
  },
  {
   "cell_type": "markdown",
   "metadata": {},
   "source": [
    "### `orders` data frame"
   ]
  },
  {
   "cell_type": "code",
   "execution_count": 28,
   "metadata": {},
   "outputs": [
    {
     "name": "stdout",
     "output_type": "stream",
     "text": [
      "        order_id  user_id  order_number  order_dow  order_hour_of_day  \\\n",
      "28        133707   182261             1          3                 10   \n",
      "96        787445    25685             1          6                 18   \n",
      "100       294410   111449             1          0                 19   \n",
      "103      2869915   123958             1          4                 16   \n",
      "104      2521921    42286             1          3                 18   \n",
      "...          ...      ...           ...        ...                ...   \n",
      "478880   2589657   205028             1          0                 16   \n",
      "478881   2222353   141211             1          2                 13   \n",
      "478907   2272807   204154             1          1                 15   \n",
      "478911   2499542    68810             1          4                 19   \n",
      "478930   1387033    22496             1          5                 14   \n",
      "\n",
      "        days_since_prior_order  \n",
      "28                         NaN  \n",
      "96                         NaN  \n",
      "100                        NaN  \n",
      "103                        NaN  \n",
      "104                        NaN  \n",
      "...                        ...  \n",
      "478880                     NaN  \n",
      "478881                     NaN  \n",
      "478907                     NaN  \n",
      "478911                     NaN  \n",
      "478930                     NaN  \n",
      "\n",
      "[28817 rows x 6 columns]\n"
     ]
    }
   ],
   "source": [
    "# Find the missing values\n",
    "print(df_orders [df_orders ['days_since_prior_order'].isna()])"
   ]
  },
  {
   "cell_type": "code",
   "execution_count": 29,
   "metadata": {},
   "outputs": [
    {
     "name": "stdout",
     "output_type": "stream",
     "text": [
      "Empty DataFrame\n",
      "Columns: [order_id, user_id, order_number, order_dow, order_hour_of_day, days_since_prior_order]\n",
      "Index: []\n"
     ]
    }
   ],
   "source": [
    "# Is there any missing value other than the customer's first order?\n",
    "print(df_orders[(df_orders['days_since_prior_order'].isna()) & (df_orders['order_number'] > 1)])"
   ]
  },
  {
   "cell_type": "markdown",
   "metadata": {},
   "source": [
    "Briefly describe your findings and what you did with them.\n",
    "\n",
    "Upon analyzing the missing values, it is determined that they appear in the orders dataframe, specifically in the column days_since_prior_order, as these correspond to the first order (order number 1). This indicates that the customers have not made any previous purchases, and it is their only purchase recorded in the system up to that point.\n",
    "In the respective analysis, the first step was to validate which values were missing, focusing on the days_since_prior_order column. Then, a double filter was applied to identify the missing values, with a condition for orders greater than 1. It was found that all the missing values in days_since_prior_order correspond to first-time orders.\""
   ]
  },
  {
   "cell_type": "markdown",
   "metadata": {},
   "source": [
    "### `order_products` data frame"
   ]
  },
  {
   "cell_type": "code",
   "execution_count": 30,
   "metadata": {},
   "outputs": [
    {
     "name": "stdout",
     "output_type": "stream",
     "text": [
      "         order_id  product_id  add_to_cart_order  reordered\n",
      "737       2449164        5068                NaN          0\n",
      "9926      1968313       43867                NaN          0\n",
      "14394     2926893       11688                NaN          0\n",
      "16418     1717990        4142                NaN          0\n",
      "30114     1959075       42828                NaN          1\n",
      "...           ...         ...                ...        ...\n",
      "4505662   1800005        7411                NaN          0\n",
      "4511400   1633337         260                NaN          0\n",
      "4517562    404157        9517                NaN          0\n",
      "4534112   1673227       17835                NaN          0\n",
      "4535739   1832957       17949                NaN          1\n",
      "\n",
      "[836 rows x 4 columns]\n"
     ]
    }
   ],
   "source": [
    "# Find the missing values\n",
    "print(df_order_products [df_order_products ['add_to_cart_order'].isna()])"
   ]
  },
  {
   "cell_type": "code",
   "execution_count": 31,
   "metadata": {},
   "outputs": [
    {
     "name": "stdout",
     "output_type": "stream",
     "text": [
      "The minimum and maximum values for the column add_to_cart_order are:  1.0 y  64.0\n",
      "\n",
      "         order_id  product_id  add_to_cart_order  reordered\n",
      "737       2449164        5068                NaN          0\n",
      "128360    2449164       14386                NaN          0\n",
      "187426    2449164       32864               10.0          1\n",
      "193859    2449164        8518                NaN          0\n",
      "234913    2449164       24497               32.0          1\n",
      "...           ...         ...                ...        ...\n",
      "4279508   2449164        7781               55.0          1\n",
      "4335855   2449164       25295               54.0          1\n",
      "4407623   2449164        4920                NaN          1\n",
      "4423417   2449164       35912                NaN          0\n",
      "4480899   2449164       47759               11.0          1\n",
      "\n",
      "[76 rows x 4 columns]\n"
     ]
    }
   ],
   "source": [
    "# What are the minimum and maximum values in this column?\n",
    "print(\"The minimum and maximum values for the column add_to_cart_order are: \", min(df_order_products['add_to_cart_order'] ), \"y \", max(df_order_products['add_to_cart_order'] ))\n",
    "print()\n",
    "print(df_order_products[df_order_products['order_id']==2449164])"
   ]
  },
  {
   "cell_type": "markdown",
   "metadata": {},
   "source": [
    "Briefly describe your findings.\n",
    "\n",
    "Upon validating the information, it is established that for a specific order, a product was included without having a clearly defined order in which it was chosen. Additionally, it is found that the largest number of products included and registered in a single order was 64 items.\""
   ]
  },
  {
   "cell_type": "code",
   "execution_count": 32,
   "metadata": {},
   "outputs": [
    {
     "name": "stdout",
     "output_type": "stream",
     "text": [
      "737        2449164\n",
      "9926       1968313\n",
      "14394      2926893\n",
      "16418      1717990\n",
      "30114      1959075\n",
      "            ...   \n",
      "4505662    1800005\n",
      "4511400    1633337\n",
      "4517562     404157\n",
      "4534112    1673227\n",
      "4535739    1832957\n",
      "Name: order_id, Length: 836, dtype: int64\n"
     ]
    }
   ],
   "source": [
    "# Save all the order IDs that have a missing value in 'add_to_cart_order'.\n",
    "c1 = df_order_products [df_order_products ['add_to_cart_order'].isna()]\n",
    "c1 = c1['order_id']\n",
    "print(c1)"
   ]
  },
  {
   "cell_type": "code",
   "execution_count": 33,
   "metadata": {},
   "outputs": [
    {
     "name": "stdout",
     "output_type": "stream",
     "text": [
      "737        2449164\n",
      "9926       1968313\n",
      "14394      2926893\n",
      "16418      1717990\n",
      "30114      1959075\n",
      "            ...   \n",
      "4505662    1800005\n",
      "4511400    1633337\n",
      "4517562     404157\n",
      "4534112    1673227\n",
      "4535739    1832957\n",
      "Name: order_id, Length: 836, dtype: int64\n",
      "\n",
      "         order_id  product_id  add_to_cart_order  reordered\n",
      "267       2094761       31469               57.0          1\n",
      "737       2449164        5068                NaN          0\n",
      "1742      2997021        4920               37.0          0\n",
      "3463       871281       40063               61.0          1\n",
      "3535       171934       36397                7.0          0\n",
      "...           ...         ...                ...        ...\n",
      "4543519   2621907       32018               28.0          1\n",
      "4544672    102236       34688               49.0          0\n",
      "4544708   2256933       41544               21.0          0\n",
      "4544771    180546       12741               46.0          1\n",
      "4544810   2136777       20072               10.0          0\n",
      "\n",
      "[5316 rows x 4 columns]\n",
      "\n",
      "order_id\n",
      "9310        1\n",
      "61355      63\n",
      "102236     31\n",
      "129627      5\n",
      "165801      6\n",
      "           ..\n",
      "2999801     6\n",
      "3125735    22\n",
      "3308010    51\n",
      "3347453     7\n",
      "3383594     5\n",
      "Name: product_id, Length: 70, dtype: int64\n",
      "\n",
      "el valor minimo que se presenta es:  1\n"
     ]
    }
   ],
   "source": [
    "# Do all the orders with missing values have more than 64 products?\n",
    "# Group all the orders with missing data by their order ID.\n",
    "# Count the number of 'product_id' in each order and check the minimum count value.\n",
    "oinan = df_order_products[df_order_products['add_to_cart_order'].isna()]['order_id']\n",
    "print(oinan)\n",
    "print()\n",
    "grpoinan = df_order_products[df_order_products['order_id'].isin(oinan)]\n",
    "print(grpoinan)\n",
    "print()\n",
    "s_pid= df_order_products[df_order_products['add_to_cart_order'].isna()].groupby('order_id')['product_id'].count()\n",
    "print(s_pid)\n",
    "print()\n",
    "print(\"el valor minimo que se presenta es: \", s_pid.min())"
   ]
  },
  {
   "cell_type": "markdown",
   "metadata": {},
   "source": [
    "Briefly describe your findings.\n",
    "\n",
    "Upon grouping the results, it is evident that the missing values are those products that were included in an order but did not have a specific order in which they were selected."
   ]
  },
  {
   "cell_type": "code",
   "execution_count": 34,
   "metadata": {},
   "outputs": [
    {
     "name": "stdout",
     "output_type": "stream",
     "text": [
      "         order_id  product_id  add_to_cart_order  reordered\n",
      "0         2141543       11440               17.0          0\n",
      "1          567889        1560                1.0          1\n",
      "2         2261212       26683                1.0          1\n",
      "3          491251        8670               35.0          1\n",
      "4         2571142        1940                5.0          1\n",
      "...           ...         ...                ...        ...\n",
      "4545002    577211       15290               12.0          1\n",
      "4545003   1219554       21914                9.0          0\n",
      "4545004    692640       47766                4.0          1\n",
      "4545005    319435         691                8.0          1\n",
      "4545006   1398151       28733                9.0          0\n",
      "\n",
      "[4545007 rows x 4 columns]\n",
      "\n",
      "<class 'pandas.core.frame.DataFrame'>\n",
      "RangeIndex: 4545007 entries, 0 to 4545006\n",
      "Data columns (total 4 columns):\n",
      " #   Column             Dtype  \n",
      "---  ------             -----  \n",
      " 0   order_id           int64  \n",
      " 1   product_id         int64  \n",
      " 2   add_to_cart_order  float64\n",
      " 3   reordered          int64  \n",
      "dtypes: float64(1), int64(3)\n",
      "memory usage: 138.7 MB\n",
      "\n",
      "El resultado de la validacion es True donde podemos realizar el cambio de la columna\n",
      "\n",
      "order_id             int64\n",
      "product_id           int64\n",
      "add_to_cart_order    int32\n",
      "reordered            int64\n",
      "dtype: object\n"
     ]
    }
   ],
   "source": [
    "# Replace the missing values in the 'add_to_cart_order' column with 999 and convert the column to integer type.\n",
    "df_order_products['add_to_cart_order'] = df_order_products['add_to_cart_order'].fillna(999)\n",
    "print(df_order_products)\n",
    "print()\n",
    "df_order_products.info()\n",
    "print()\n",
    "can_convert = np.array_equal(df_order_products['add_to_cart_order'], df_order_products['add_to_cart_order'].astype('int'))\n",
    "print(\"El resultado de la validacion es\", can_convert, \"donde podemos realizar el cambio de la columna\")\n",
    "df_order_products['add_to_cart_order'] = df_order_products['add_to_cart_order'].astype('int')\n",
    "print()\n",
    "print(df_order_products.dtypes)"
   ]
  },
  {
   "cell_type": "markdown",
   "metadata": {},
   "source": [
    "Briefly describe your findings and what you did with them.\n",
    "\n",
    "The calculation and adjustment of missing values are performed, and they are replaced with a large number (999) for identification purposes, ensuring that they do not affect the flow of product data into the orders within the dataframe. Additionally, the column type is changed for better data analysis and merging between tables.\n",
    "\n",
    "## Conclusions\n",
    "\n",
    "Write your intermediate conclusions here about Step 2: Data Preprocessing.\n",
    "\n",
    "After completing all the data preprocessing, the focus is placed on missing and duplicate values:\n",
    "\n",
    "For these issues, the following actions were taken:\n",
    "\n",
    "    - The dataframe was focused on to allow for action to prevent duplicates from appearing again, such as duplicate orders occurring on the same day and at the same time.\n",
    "    - It was established that the dataframes, by default, contain missing or \"NaN\" values, particularly in the aisle and department columns, allowing for differentiation and better data focusing.\n",
    "    - Missing values were handled to fill in the gaps, ensuring that the data merging would be reliable and support decision-making."
   ]
  },
  {
   "cell_type": "markdown",
   "metadata": {},
   "source": [
    "# Step 3. Data Analysis\n",
    "\n",
    "Once the data is processed and ready, perform the following analysis:\n",
    "\n",
    "# [A] Easy (all must be completed to pass)\n",
    "\n",
    "1. Verify that the values in the`'order_hour_of_day'` and `'order_dow'` columns in the orders table are reasonable (i.e.,  `'order_hour_of_day'` hould range from 0 to 23 and `'order_dow'` should range from 0 to 6).\n",
    "2. Create a chart showing the number of people placing orders depending on the time of day.\n",
    "3. Create a chart showing which day of the week people make their purchases.\n",
    "4. Create a chart showing the time people wait before making their next order, and comment on the minimum and maximum values."
   ]
  },
  {
   "cell_type": "markdown",
   "metadata": {},
   "source": [
    "### [A1] Verify that the values are reasonable"
   ]
  },
  {
   "cell_type": "code",
   "execution_count": 35,
   "metadata": {},
   "outputs": [
    {
     "name": "stdout",
     "output_type": "stream",
     "text": [
      "count    478952.000000\n",
      "mean         13.447034\n",
      "std           4.224567\n",
      "min           0.000000\n",
      "25%          10.000000\n",
      "50%          13.000000\n",
      "75%          16.000000\n",
      "max          23.000000\n",
      "Name: order_hour_of_day, dtype: float64\n",
      "\n",
      "The hours range from: 0  hours until 23  hours\n"
     ]
    }
   ],
   "source": [
    "print(df_orders['order_hour_of_day'].describe())\n",
    "print()\n",
    "print(\"The hours range from:\", min(df_orders['order_hour_of_day'] ),\" hours until\", max(df_orders['order_hour_of_day'] ),\" hours\")"
   ]
  },
  {
   "cell_type": "code",
   "execution_count": 36,
   "metadata": {},
   "outputs": [
    {
     "name": "stdout",
     "output_type": "stream",
     "text": [
      "count    478952.000000\n",
      "mean          2.775051\n",
      "std           2.045901\n",
      "min           0.000000\n",
      "25%           1.000000\n",
      "50%           3.000000\n",
      "75%           5.000000\n",
      "max           6.000000\n",
      "Name: order_dow, dtype: float64\n",
      "\n",
      "The days range from the day: 0 which represents Sunday through to the day 6  which represents Saturday\n"
     ]
    }
   ],
   "source": [
    "print(df_orders['order_dow'].describe())\n",
    "print()\n",
    "print(\"The days range from the day:\", min(df_orders['order_dow'] ),\"which represents Sunday through to the day\", max(df_orders['order_dow'] ),\" which represents Saturday\")"
   ]
  },
  {
   "cell_type": "markdown",
   "metadata": {},
   "source": [
    "It is established that the values are within the established ranges for hours and days, ensuring reliable analysis."
   ]
  },
  {
   "cell_type": "markdown",
   "metadata": {},
   "source": [
    "### [A2] For each hour of the day, how many people place orders?"
   ]
  },
  {
   "cell_type": "code",
   "execution_count": 37,
   "metadata": {},
   "outputs": [
    {
     "name": "stdout",
     "output_type": "stream",
     "text": [
      "order_hour_of_day\n",
      "0      3180\n",
      "1      1763\n",
      "2       989\n",
      "3       770\n",
      "4       765\n",
      "5      1371\n",
      "6      4215\n",
      "7     13043\n",
      "8     25024\n",
      "9     35896\n",
      "10    40578\n",
      "11    40032\n",
      "12    38034\n",
      "13    39007\n",
      "14    39631\n",
      "15    39789\n",
      "16    38112\n",
      "17    31930\n",
      "18    25510\n",
      "19    19547\n",
      "20    14624\n",
      "21    11019\n",
      "22     8512\n",
      "23     5611\n",
      "Name: user_id, dtype: int64\n"
     ]
    },
    {
     "data": {
      "image/png": "[encoded data removed]",
      "text/plain": [
       "<Figure size 640x480 with 1 Axes>"
      ]
     },
     "metadata": {},
     "output_type": "display_data"
    }
   ],
   "source": [
    "h_dia = df_orders.pivot_table(index='order_hour_of_day', #The column whose values are converted into rows in the pivot table;\n",
    "                            columns='order_dow', #The column whose values are converted into columns in the pivot table\n",
    "                            values='user_id', #The column whose values we want to aggregate in the pivot table;\n",
    "                            aggfunc='count' #The aggregation function we want to apply to the values in each row and column group.\n",
    "                           )\n",
    "#print(h_dia)\n",
    "\n",
    "deck_val = df_orders.groupby('order_hour_of_day')['user_id'].count()\n",
    "print(deck_val)\n",
    "\n",
    "                  \n",
    "df_orders['order_hour_of_day'].plot(kind='hist', bins=23, x='order_hour_of_day', y='user_id', title='Consumption time slots during the day')\n",
    "plt.ylabel('Number of people')\n",
    "plt.xlabel('Hours of the day')\n",
    "plt.show()"
   ]
  },
  {
   "cell_type": "markdown",
   "metadata": {},
   "source": [
    "The time slot with the highest purchases is at 10 AM, where the peak is observed. Additionally, it is established that from 10 AM to 2 PM is the time slot with the highest activity, and this is where the process should be supported."
   ]
  },
  {
   "cell_type": "markdown",
   "metadata": {},
   "source": [
    "### [A3] Which day of the week do people buy groceries?"
   ]
  },
  {
   "cell_type": "code",
   "execution_count": 38,
   "metadata": {},
   "outputs": [
    {
     "name": "stdout",
     "output_type": "stream",
     "text": [
      "order_dow\n",
      "0    84090\n",
      "1    82185\n",
      "2    65833\n",
      "3    60897\n",
      "4    59810\n",
      "5    63488\n",
      "6    62649\n",
      "Name: user_id, dtype: int64\n",
      "order_hour_of_day   0    1    2    3    4    5    6     7     8     9   ...  \\\n",
      "order_dow                                                               ...   \n",
      "0                  533  337  188  128  108  171  463  1752  3908  5650  ...   \n",
      "1                  565  269  145  104  104  246  757  2320  4751  7262  ...   \n",
      "2                  462  240  136  104  109  196  653  1900  3485  5057  ...   \n",
      "3                  373  215  106  101  108  170  643  1732  3125  4490  ...   \n",
      "4                  324  229  114  109  100  198  594  1787  3136  4332  ...   \n",
      "5                  459  219  123   99  118  229  654  1933  3373  4794  ...   \n",
      "6                  464  254  177  125  118  161  451  1619  3246  4311  ...   \n",
      "\n",
      "order_hour_of_day    14    15    16    17    18    19    20    21    22   23  \n",
      "order_dow                                                                     \n",
      "0                  7533  7585  6956  5552  4142  3084  2544  2043  1614  921  \n",
      "1                  6545  6446  6050  5125  4075  3126  2332  1698  1165  759  \n",
      "2                  5344  5260  5322  4525  3672  2787  2061  1481  1130  755  \n",
      "3                  4774  5163  4976  4175  3463  2652  1917  1450  1154  718  \n",
      "4                  4795  4795  4788  4089  3379  2691  2037  1506  1236  791  \n",
      "5                  5265  5352  4991  4169  3441  2597  1886  1368  1028  774  \n",
      "6                  5375  5188  5029  4295  3338  2610  1847  1473  1185  893  \n",
      "\n",
      "[7 rows x 24 columns]\n"
     ]
    },
    {
     "data": {
      "image/png": "[encoded data removed]",
      "text/plain": [
       "<Figure size 1500x1000 with 1 Axes>"
      ]
     },
     "metadata": {},
     "output_type": "display_data"
    },
    {
     "data": {
      "image/png": "[encoded data removed]",
      "text/plain": [
       "<Figure size 640x480 with 1 Axes>"
      ]
     },
     "metadata": {},
     "output_type": "display_data"
    },
    {
     "data": {
      "text/plain": [
       "count        7.000000\n",
       "mean     68421.714286\n",
       "std      10247.547409\n",
       "min      59810.000000\n",
       "25%      61773.000000\n",
       "50%      63488.000000\n",
       "75%      74009.000000\n",
       "max      84090.000000\n",
       "Name: user_id, dtype: float64"
      ]
     },
     "execution_count": 38,
     "metadata": {},
     "output_type": "execute_result"
    }
   ],
   "source": [
    "deck_val2 = df_orders.groupby('order_dow')['user_id'].count()\n",
    "print(deck_val2)\n",
    "\n",
    "d_comp = df_orders.pivot_table(index='order_dow', #The column whose values are converted into rows in the pivot table;\n",
    "                            columns='order_hour_of_day', #The column whose values are converted into columns in the pivot table;\n",
    "                            values='user_id', #The column whose values we want to aggregate in the pivot table;\n",
    "                            aggfunc='count' #The aggregation function we want to apply to the values in each row and column group.\n",
    "                           )\n",
    "print(d_comp)\n",
    "\n",
    "h_dia.plot(kind='bar', figsize=[15, 10], xlabel=\"Hours of the day\", ylabel=\"Number of people\")\n",
    "plt.legend([\"Sunday\" , \"Monday\", \"Tuesday\", \"Wednesday\", \"Thursday\", \"Friday\"])\n",
    "plt.show()\n",
    "\n",
    "deck_val2.plot(kind='bar', xlabel=\"Day of the week\", ylabel=\"Number of people\")\n",
    "plt.show()\n",
    "\n",
    "\n",
    "deck_val2.describe()\n"
   ]
  },
  {
   "cell_type": "markdown",
   "metadata": {},
   "source": [
    "The day with the highest flow is established to be Sunday, while the day with the lowest purchases is Thursday. The average purchase amount is 68,421, as made by the buyers."
   ]
  },
  {
   "cell_type": "markdown",
   "metadata": {},
   "source": [
    "### [A4] How long do people wait before placing another order? Comment on the minimum and maximum values"
   ]
  },
  {
   "cell_type": "code",
   "execution_count": 39,
   "metadata": {},
   "outputs": [
    {
     "name": "stdout",
     "output_type": "stream",
     "text": [
      "order_dow                   0     1     2     3     4     5     6\n",
      "days_since_prior_order                                           \n",
      "0.0                      1277  1743  1352  1324  1343  1380  1170\n",
      "1.0                      2630  2674  3709  3122  2920  2878  2246\n",
      "2.0                      3730  3276  3729  5065  4367  4102  2869\n",
      "3.0                      4270  4966  3292  4412  5375  4538  3371\n",
      "4.0                      4611  5393  4358  3395  4371  5410  3468\n",
      "5.0                      4547  5343  4404  4096  3241  4419  4046\n",
      "6.0                      6068  5861  4198  3804  3905  3906  6188\n",
      "7.0                     10486  9101  4587  4066  4202  5848  6287\n",
      "8.0                      5107  4518  4334  2892  2759  2883  2868\n",
      "9.0                      2644  2421  2651  2804  2287  2082  1864\n",
      "10.0                     1969  2447  1612  1951  2088  1789  1453\n",
      "11.0                     1749  2055  1692  1274  1568  1781  1348\n",
      "12.0                     1665  1978  1565  1396  1098  1538  1418\n",
      "13.0                     2063  2073  1489  1305  1194  1316  2297\n",
      "14.0                     3559  2740  1655  1260  1245  1496  2037\n",
      "15.0                     1864  1719  1640  1142  1044   975  1032\n",
      "16.0                     1007   954  1114  1118   948   731   715\n",
      "17.0                      820   952   711   854   841   698   622\n",
      "18.0                      768   871   740   573   721   710   588\n",
      "19.0                      766   941   738   621   514   717   642\n",
      "20.0                      962   900   710   589   566   531  1044\n",
      "21.0                     1683  1229   761   604   578   665   928\n",
      "22.0                      909   877   807   548   468   420   485\n",
      "23.0                      529   493   555   549   454   395   362\n",
      "24.0                      417   518   377   460   497   393   353\n",
      "25.0                      433   424   392   283   427   447   305\n",
      "26.0                      436   448   366   351   261   402   376\n",
      "27.0                      536   523   393   322   290   336   586\n",
      "28.0                      938   692   435   381   336   398   565\n",
      "29.0                      538   480   442   341   295   304   273\n",
      "30.0                     9768  8659  7117  6369  6192  6419  6813\n",
      "\n",
      "days_since_prior_order\n",
      "0.0      9589\n",
      "1.0     20179\n",
      "2.0     27138\n",
      "3.0     30224\n",
      "4.0     31006\n",
      "5.0     30096\n",
      "6.0     33930\n",
      "7.0     44577\n",
      "8.0     25361\n",
      "9.0     16753\n",
      "10.0    13309\n",
      "11.0    11467\n",
      "12.0    10658\n",
      "13.0    11737\n",
      "14.0    13992\n",
      "15.0     9416\n",
      "16.0     6587\n",
      "17.0     5498\n",
      "18.0     4971\n",
      "19.0     4939\n",
      "20.0     5302\n",
      "21.0     6448\n",
      "22.0     4514\n",
      "23.0     3337\n",
      "24.0     3015\n",
      "25.0     2711\n",
      "26.0     2640\n",
      "27.0     2986\n",
      "28.0     3745\n",
      "29.0     2673\n",
      "30.0    51337\n",
      "Name: user_id, dtype: int64\n"
     ]
    },
    {
     "data": {
      "image/png": "[encoded data removed]",
      "text/plain": [
       "<Figure size 640x480 with 1 Axes>"
      ]
     },
     "metadata": {},
     "output_type": "display_data"
    },
    {
     "name": "stdout",
     "output_type": "stream",
     "text": [
      "The minimum number of days that have passed since this customer made their previous order was: 29 days, with: 2640\n",
      "The maximum number of days that have passed since this customer made their previous order was: 30 days, with: 51337\n"
     ]
    }
   ],
   "source": [
    "t_pedido = df_orders.pivot_table(index='days_since_prior_order', #The column whose values are converted into rows in the pivot table;\n",
    "                            columns='order_dow', #The column whose values are converted into columns in the pivot table;\n",
    "                            values='user_id', #The column whose values we want to aggregate in the pivot table;\n",
    "                            aggfunc='count' #The aggregation function we want to apply to the values in each row and column group.\"\n",
    "                           )\n",
    "\n",
    "print(t_pedido)\n",
    "print()\n",
    "deck_val3 = df_orders.groupby('days_since_prior_order')['user_id'].count()\n",
    "print(deck_val3)\n",
    "\n",
    "deck_val3.plot(kind='bar', xlabel=\"Number of days since this customer made their previous order\", ylabel=\"Number of people\")\n",
    "plt.show()\n",
    "\n",
    "print(\"The minimum number of days that have passed since this customer made their previous order was: 29 days, with:\", deck_val3.min())\n",
    "print(\"The maximum number of days that have passed since this customer made their previous order was: 30 days, with:\", deck_val3.max())"
   ]
  },
  {
   "cell_type": "markdown",
   "metadata": {},
   "source": [
    "It is established that people tend to make their purchases in the long term. The data shows that people follow certain patterns when making their purchases, as follows: consumers tend to regularize their purchases or wait until a specific day, and the maximum value, which is 30, indicates that most consumers do wait to make their purchase, adhering to a 30-day cycle. This suggests that they regularize their purchases and reorder every 30 days.\n",
    "\n",
    "Based on the information presented, the following could be happening in such behavior:\n",
    "\n",
    "    * The system has a parameter where days exceeding 30 are by default set to 30, as supported by the fact that the peak occurs on this day.\n",
    "    * The behavior of the days prior to day 8 shows a decrease, and it is atypical to see a sudden increase in a single moment.\n",
    "Based on this information, it is recommended to zoom in on this detail to gather better data for decision-making and determine what is actually happening."
   ]
  },
  {
   "cell_type": "markdown",
   "metadata": {},
   "source": [
    "# [B] Intermediate (must be completed to pass)\n",
    "\n",
    "1. Is there any difference between the distributions of `'order_hour_of_day'` on Wednesdays and Saturdays? Plot bar charts for `'order_hour_of_day'` for both days on the same figure and describe any differences you observe.\n",
    "2. Plot the distribution for the number of orders placed by customers (i.e., how many customers made only 1 order, how many made 2, how many made 3, and so on...).\n",
    "3. What are the 20 most frequently ordered products? Display their ID and name."
   ]
  },
  {
   "cell_type": "markdown",
   "metadata": {},
   "source": [
    "### [B1] Difference between Wednesday and Saturday for `'order_hour_of_day'`. Filter the dataframe with data specifically for Wednesday and Saturday for the analysis."
   ]
  },
  {
   "cell_type": "code",
   "execution_count": 40,
   "metadata": {},
   "outputs": [
    {
     "name": "stdout",
     "output_type": "stream",
     "text": [
      "        order_id  user_id  order_number  order_dow  order_hour_of_day  \\\n",
      "0        1515936   183418            11          6                 13   \n",
      "6        2511640   148233            40          3                  8   \n",
      "11        102585   191558            18          6                 16   \n",
      "14       2843219    74699             4          6                 11   \n",
      "16       3109465    55090            19          3                 15   \n",
      "...          ...      ...           ...        ...                ...   \n",
      "478939    984024    47076             2          6                 21   \n",
      "478941    640934    27104             9          3                 10   \n",
      "478946   3006133    34561             7          6                 10   \n",
      "478948   3270802   112087             2          3                 13   \n",
      "478950    216274     4391             3          3                  8   \n",
      "\n",
      "        days_since_prior_order  \n",
      "0                         30.0  \n",
      "6                          2.0  \n",
      "11                         8.0  \n",
      "14                        30.0  \n",
      "16                         9.0  \n",
      "...                        ...  \n",
      "478939                     6.0  \n",
      "478941                     6.0  \n",
      "478946                    30.0  \n",
      "478948                     6.0  \n",
      "478950                     8.0  \n",
      "\n",
      "[123546 rows x 6 columns]\n"
     ]
    }
   ],
   "source": [
    "mys_com = df_orders[(df_orders['order_dow'] == 3) | (df_orders['order_dow'] == 6)]\n",
    "print(mys_com) #Filter the dataframe with data specifically for Wednesday and Saturday for the analysis.\"\n"
   ]
  },
  {
   "cell_type": "code",
   "execution_count": 41,
   "metadata": {},
   "outputs": [
    {
     "name": "stdout",
     "output_type": "stream",
     "text": [
      "order_dow             3     6\n",
      "order_hour_of_day            \n",
      "0                   373   464\n",
      "1                   215   254\n",
      "2                   106   177\n",
      "3                   101   125\n",
      "4                   108   118\n",
      "5                   170   161\n",
      "6                   643   451\n",
      "7                  1732  1619\n",
      "8                  3125  3246\n",
      "9                  4490  4311\n",
      "10                 5026  4919\n",
      "11                 5004  5116\n",
      "12                 4688  5132\n",
      "13                 4674  5323\n",
      "14                 4774  5375\n",
      "15                 5163  5188\n",
      "16                 4976  5029\n",
      "17                 4175  4295\n",
      "18                 3463  3338\n",
      "19                 2652  2610\n",
      "20                 1917  1847\n",
      "21                 1450  1473\n",
      "22                 1154  1185\n",
      "23                  718   893\n"
     ]
    }
   ],
   "source": [
    "mys_comp2 = mys_com.pivot_table(index='order_hour_of_day', #The column whose values are converted into rows in the pivot table;\n",
    "                            columns='order_dow', #The column whose values are converted into columns in the pivot table;\n",
    "                            values='user_id', #The column whose values we want to aggregate in the pivot table;\n",
    "                            aggfunc='count' #The aggregation function we want to apply to the values in each row and column group.\n",
    "                           )\n",
    "print(mys_comp2)"
   ]
  },
  {
   "cell_type": "code",
   "execution_count": 42,
   "metadata": {},
   "outputs": [
    {
     "name": "stdout",
     "output_type": "stream",
     "text": [
      "The total value for Wednesday is equal to 60897\n",
      "The total value for Saturday is equal to  62649\n"
     ]
    }
   ],
   "source": [
    "deck_val4 = df_orders[df_orders['order_dow']== 3] #Only the values for Wednesday are filtered.\n",
    "deck_val4 = deck_val4['user_id'].count() # A count is performed based on the number of users.\n",
    "print(\"The total value for Wednesday is equal to\", deck_val4) #The total value of data for Wednesday is shown.\n",
    "deck_val5 = df_orders[df_orders['order_dow']== 6] #Only the values for Saturday are filtered.\n",
    "deck_val5 = deck_val5['user_id'].count() #A count is performed based on the number of users.\n",
    "print(\"The total value for Saturday is equal to \", deck_val5) #The total value of data for Thursday is shown."
   ]
  },
  {
   "cell_type": "code",
   "execution_count": 43,
   "metadata": {},
   "outputs": [
    {
     "data": {
      "image/png": "[encoded data removed]",
      "text/plain": [
       "<Figure size 1000x1000 with 1 Axes>"
      ]
     },
     "metadata": {},
     "output_type": "display_data"
    }
   ],
   "source": [
    "mys_comp2.plot(kind='bar', #A chart is created for Wednesday vs Saturday.\n",
    "        title='Comparison of Wednesday vs Saturday',  \n",
    "        xlabel='Number of people.', \n",
    "        ylabel='Hours of the day',\n",
    "              figsize=[10, 10] )\n",
    "\n",
    "plt.legend(['Wednesday', 'Saturday'])\n",
    "plt.show()"
   ]
  },
  {
   "cell_type": "markdown",
   "metadata": {},
   "source": [
    "A very similar behavior is observed on Wednesdays and Saturdays, but the difference is that Saturday has a higher influx. Another point is that there are 3 time slots where Wednesday surpasses Saturday. These time slots are from 5:00 AM to 7:00 AM, from 9:00 AM to 10:00 AM, and from 6:00 PM to 8:00 PM.\n",
    "Another difference observed is that both days have a bell-shaped flow, starting with a low influx, then rising almost five times higher than the beginning, and eventually decreasing again."
   ]
  },
  {
   "cell_type": "markdown",
   "metadata": {},
   "source": [
    "### [B2] What is the distribution for the number of orders per customer?"
   ]
  },
  {
   "cell_type": "code",
   "execution_count": 44,
   "metadata": {},
   "outputs": [
    {
     "name": "stdout",
     "output_type": "stream",
     "text": [
      "order_number\n",
      "1      28817\n",
      "2      28633\n",
      "3      28685\n",
      "4      28703\n",
      "5      25661\n",
      "       ...  \n",
      "96       220\n",
      "97       221\n",
      "98       191\n",
      "99       169\n",
      "100      194\n",
      "Name: user_id, Length: 100, dtype: int64\n",
      "\n",
      "        order_id  user_id  order_number  order_dow  order_hour_of_day  \\\n",
      "28        133707   182261             1          3                 10   \n",
      "96        787445    25685             1          6                 18   \n",
      "100       294410   111449             1          0                 19   \n",
      "103      2869915   123958             1          4                 16   \n",
      "104      2521921    42286             1          3                 18   \n",
      "...          ...      ...           ...        ...                ...   \n",
      "478880   2589657   205028             1          0                 16   \n",
      "478881   2222353   141211             1          2                 13   \n",
      "478907   2272807   204154             1          1                 15   \n",
      "478911   2499542    68810             1          4                 19   \n",
      "478930   1387033    22496             1          5                 14   \n",
      "\n",
      "        days_since_prior_order  \n",
      "28                         NaN  \n",
      "96                         NaN  \n",
      "100                        NaN  \n",
      "103                        NaN  \n",
      "104                        NaN  \n",
      "...                        ...  \n",
      "478880                     NaN  \n",
      "478881                     NaN  \n",
      "478907                     NaN  \n",
      "478911                     NaN  \n",
      "478930                     NaN  \n",
      "\n",
      "[28817 rows x 6 columns]\n"
     ]
    }
   ],
   "source": [
    "deck_val6 = df_orders.groupby('order_number')['user_id'].count() #Grouping of the number of times a customer places n orders based on the customer.\n",
    "print(deck_val6)\n",
    "print()\n",
    "comp1reor = df_orders[df_orders['order_number']== 1] #Validation for the number of orders placed by customers, i.e., how many customers placed only 1 order.\n",
    "print(comp1reor)"
   ]
  },
  {
   "cell_type": "code",
   "execution_count": 45,
   "metadata": {},
   "outputs": [
    {
     "data": {
      "image/png": "[encoded data removed]",
      "text/plain": [
       "<Figure size 1000x1000 with 1 Axes>"
      ]
     },
     "metadata": {},
     "output_type": "display_data"
    }
   ],
   "source": [
    "deck_val6.plot(style='*', title='Number of orders placed by customers.', grid=True, xlabel=\"Number of orders\", ylabel=\"Number of people\",\n",
    "              figsize=[10, 10]) #Data is graphed, and the behavior of these is validated based on the provided chart.\n",
    "plt.show()"
   ]
  },
  {
   "cell_type": "markdown",
   "metadata": {},
   "source": [
    "It is observed in the chart that it shows a behavior of reduction or decline, which implies that customers have very low repeat purchase behavior. This is the pattern indicated by the chart: a high purchase volume from a few customers, and there is a strong trend of reduced repeat purchases with fewer customers repeating their orders"
   ]
  },
  {
   "cell_type": "markdown",
   "metadata": {},
   "source": [
    "### [B3] What are the 20 most popular products? (Display their ID and name)"
   ]
  },
  {
   "cell_type": "code",
   "execution_count": 46,
   "metadata": {},
   "outputs": [
    {
     "data": {
      "text/html": [
       "<div>\n",
       "<style scoped>\n",
       "    .dataframe tbody tr th:only-of-type {\n",
       "        vertical-align: middle;\n",
       "    }\n",
       "\n",
       "    .dataframe tbody tr th {\n",
       "        vertical-align: top;\n",
       "    }\n",
       "\n",
       "    .dataframe thead th {\n",
       "        text-align: right;\n",
       "    }\n",
       "</style>\n",
       "<table border=\"1\" class=\"dataframe\">\n",
       "  <thead>\n",
       "    <tr style=\"text-align: right;\">\n",
       "      <th></th>\n",
       "      <th>order_id</th>\n",
       "      <th>product_id</th>\n",
       "      <th>add_to_cart_order</th>\n",
       "      <th>reordered</th>\n",
       "      <th>product_name</th>\n",
       "      <th>aisle_id</th>\n",
       "      <th>department_id</th>\n",
       "    </tr>\n",
       "  </thead>\n",
       "  <tbody>\n",
       "    <tr>\n",
       "      <th>0</th>\n",
       "      <td>2141543</td>\n",
       "      <td>11440</td>\n",
       "      <td>17</td>\n",
       "      <td>0</td>\n",
       "      <td>CHICKEN BREAST TENDERS BREADED</td>\n",
       "      <td>129</td>\n",
       "      <td>1</td>\n",
       "    </tr>\n",
       "    <tr>\n",
       "      <th>1</th>\n",
       "      <td>567889</td>\n",
       "      <td>1560</td>\n",
       "      <td>1</td>\n",
       "      <td>1</td>\n",
       "      <td>BAG OF ICE</td>\n",
       "      <td>37</td>\n",
       "      <td>1</td>\n",
       "    </tr>\n",
       "    <tr>\n",
       "      <th>2</th>\n",
       "      <td>2261212</td>\n",
       "      <td>26683</td>\n",
       "      <td>1</td>\n",
       "      <td>1</td>\n",
       "      <td>CAFE LATTE PURE LIGHTLY SWEETENED ICED COFFEE ...</td>\n",
       "      <td>91</td>\n",
       "      <td>16</td>\n",
       "    </tr>\n",
       "    <tr>\n",
       "      <th>3</th>\n",
       "      <td>491251</td>\n",
       "      <td>8670</td>\n",
       "      <td>35</td>\n",
       "      <td>1</td>\n",
       "      <td>DICED TOMATOES</td>\n",
       "      <td>81</td>\n",
       "      <td>15</td>\n",
       "    </tr>\n",
       "    <tr>\n",
       "      <th>4</th>\n",
       "      <td>2571142</td>\n",
       "      <td>1940</td>\n",
       "      <td>5</td>\n",
       "      <td>1</td>\n",
       "      <td>ORGANIC 2% REDUCED FAT MILK</td>\n",
       "      <td>84</td>\n",
       "      <td>16</td>\n",
       "    </tr>\n",
       "    <tr>\n",
       "      <th>5</th>\n",
       "      <td>2456893</td>\n",
       "      <td>21616</td>\n",
       "      <td>4</td>\n",
       "      <td>1</td>\n",
       "      <td>ORGANIC BABY ARUGULA</td>\n",
       "      <td>123</td>\n",
       "      <td>4</td>\n",
       "    </tr>\n",
       "    <tr>\n",
       "      <th>6</th>\n",
       "      <td>644579</td>\n",
       "      <td>12341</td>\n",
       "      <td>5</td>\n",
       "      <td>1</td>\n",
       "      <td>HASS AVOCADOS</td>\n",
       "      <td>32</td>\n",
       "      <td>4</td>\n",
       "    </tr>\n",
       "    <tr>\n",
       "      <th>7</th>\n",
       "      <td>2231852</td>\n",
       "      <td>44925</td>\n",
       "      <td>10</td>\n",
       "      <td>1</td>\n",
       "      <td>NATURAL PROVOLONE CHEESE SLICES</td>\n",
       "      <td>21</td>\n",
       "      <td>16</td>\n",
       "    </tr>\n",
       "    <tr>\n",
       "      <th>8</th>\n",
       "      <td>3185766</td>\n",
       "      <td>36259</td>\n",
       "      <td>14</td>\n",
       "      <td>1</td>\n",
       "      <td>WHOLE NATURAL VALUE PACK ALMONDS</td>\n",
       "      <td>117</td>\n",
       "      <td>19</td>\n",
       "    </tr>\n",
       "    <tr>\n",
       "      <th>9</th>\n",
       "      <td>420019</td>\n",
       "      <td>23315</td>\n",
       "      <td>4</td>\n",
       "      <td>1</td>\n",
       "      <td>ORGANIC COLD BREW COFFEE</td>\n",
       "      <td>26</td>\n",
       "      <td>7</td>\n",
       "    </tr>\n",
       "  </tbody>\n",
       "</table>\n",
       "</div>"
      ],
      "text/plain": [
       "   order_id  product_id  add_to_cart_order  reordered  \\\n",
       "0   2141543       11440                 17          0   \n",
       "1    567889        1560                  1          1   \n",
       "2   2261212       26683                  1          1   \n",
       "3    491251        8670                 35          1   \n",
       "4   2571142        1940                  5          1   \n",
       "5   2456893       21616                  4          1   \n",
       "6    644579       12341                  5          1   \n",
       "7   2231852       44925                 10          1   \n",
       "8   3185766       36259                 14          1   \n",
       "9    420019       23315                  4          1   \n",
       "\n",
       "                                        product_name  aisle_id  department_id  \n",
       "0                     CHICKEN BREAST TENDERS BREADED       129              1  \n",
       "1                                         BAG OF ICE        37              1  \n",
       "2  CAFE LATTE PURE LIGHTLY SWEETENED ICED COFFEE ...        91             16  \n",
       "3                                     DICED TOMATOES        81             15  \n",
       "4                        ORGANIC 2% REDUCED FAT MILK        84             16  \n",
       "5                               ORGANIC BABY ARUGULA       123              4  \n",
       "6                                      HASS AVOCADOS        32              4  \n",
       "7                    NATURAL PROVOLONE CHEESE SLICES        21             16  \n",
       "8                   WHOLE NATURAL VALUE PACK ALMONDS       117             19  \n",
       "9                           ORGANIC COLD BREW COFFEE        26              7  "
      ]
     },
     "metadata": {},
     "output_type": "display_data"
    }
   ],
   "source": [
    "df_m = df_order_products.merge(df_products, on='product_id', how=\"left\") #A combination of two dataframes is made to include the names.\n",
    "display(df_m.head(10))"
   ]
  },
  {
   "cell_type": "code",
   "execution_count": 47,
   "metadata": {},
   "outputs": [],
   "source": [
    "deck_val7 = df_m.groupby(by =['product_id', 'product_name'])['order_id'].count().sort_values(ascending=False) #Grouping of the number of times a product is ordered"
   ]
  },
  {
   "cell_type": "code",
   "execution_count": 48,
   "metadata": {},
   "outputs": [
    {
     "name": "stdout",
     "output_type": "stream",
     "text": [
      "product_id  product_name            \n",
      "24852       BANANA                      66050\n",
      "13176       BAG OF ORGANIC BANANAS      53297\n",
      "21137       ORGANIC STRAWBERRIES        37039\n",
      "21903       ORGANIC BABY SPINACH        33971\n",
      "47209       ORGANIC HASS AVOCADO        29773\n",
      "47766       ORGANIC AVOCADO             24689\n",
      "47626       LARGE LEMON                 21495\n",
      "16797       STRAWBERRIES                20018\n",
      "26209       LIMES                       19690\n",
      "27845       ORGANIC WHOLE MILK          19600\n",
      "27966       ORGANIC RASPBERRIES         19197\n",
      "22935       ORGANIC YELLOW ONION        15898\n",
      "24964       ORGANIC GARLIC              15292\n",
      "45007       ORGANIC ZUCCHINI            14584\n",
      "39275       ORGANIC BLUEBERRIES         13879\n",
      "49683       CUCUMBER KIRBY              13675\n",
      "28204       ORGANIC FUJI APPLE          12544\n",
      "5876        ORGANIC LEMON               12232\n",
      "8277        APPLE HONEYCRISP ORGANIC    11993\n",
      "40706       ORGANIC GRAPE TOMATOES      11781\n",
      "Name: order_id, dtype: int64\n"
     ]
    }
   ],
   "source": [
    "deck_val7=deck_val7.head(20) #A variable is created for the top 20 products, as they are organized from highest to lowest\n",
    "print(deck_val7)"
   ]
  },
  {
   "cell_type": "markdown",
   "metadata": {},
   "source": [
    "Upon conducting the respective analysis, it is established that the most consumed products are food, organic products, and are focused on fruits."
   ]
  },
  {
   "cell_type": "markdown",
   "metadata": {},
   "source": [
    "# [C] Difficult (must be completed to pass)\n",
    "\n",
    "1. How many items do people usually buy in an order? What is the distribution like?\n",
    "2. What are the 20 most frequently reordered items? (Display their names and product IDs)\n",
    "3. For each product, what is the reorder rate? (Number of reorder repetitions / total orders)\n",
    "4. For each customer, what proportion of the products they ordered had they already ordered before? Calculate the reorder rate for each user instead of for each product.\n",
    "5. What are the 20 most common items people add first to their carts? (Display product IDs, names, and the number of times they were the first item added to the cart)"
   ]
  },
  {
   "cell_type": "markdown",
   "metadata": {},
   "source": [
    "### [C1] How many items do people usually buy in an order? What is the distribution like?"
   ]
  },
  {
   "cell_type": "code",
   "execution_count": 49,
   "metadata": {},
   "outputs": [
    {
     "data": {
      "text/html": [
       "<div>\n",
       "<style scoped>\n",
       "    .dataframe tbody tr th:only-of-type {\n",
       "        vertical-align: middle;\n",
       "    }\n",
       "\n",
       "    .dataframe tbody tr th {\n",
       "        vertical-align: top;\n",
       "    }\n",
       "\n",
       "    .dataframe thead th {\n",
       "        text-align: right;\n",
       "    }\n",
       "</style>\n",
       "<table border=\"1\" class=\"dataframe\">\n",
       "  <thead>\n",
       "    <tr style=\"text-align: right;\">\n",
       "      <th></th>\n",
       "      <th>order_id</th>\n",
       "      <th>product_id</th>\n",
       "      <th>add_to_cart_order</th>\n",
       "      <th>reordered</th>\n",
       "      <th>user_id</th>\n",
       "      <th>order_number</th>\n",
       "      <th>order_dow</th>\n",
       "      <th>order_hour_of_day</th>\n",
       "      <th>days_since_prior_order</th>\n",
       "    </tr>\n",
       "  </thead>\n",
       "  <tbody>\n",
       "    <tr>\n",
       "      <th>0</th>\n",
       "      <td>2141543</td>\n",
       "      <td>11440</td>\n",
       "      <td>17</td>\n",
       "      <td>0</td>\n",
       "      <td>58454</td>\n",
       "      <td>25</td>\n",
       "      <td>0</td>\n",
       "      <td>15</td>\n",
       "      <td>8.0</td>\n",
       "    </tr>\n",
       "    <tr>\n",
       "      <th>1</th>\n",
       "      <td>567889</td>\n",
       "      <td>1560</td>\n",
       "      <td>1</td>\n",
       "      <td>1</td>\n",
       "      <td>129474</td>\n",
       "      <td>16</td>\n",
       "      <td>1</td>\n",
       "      <td>13</td>\n",
       "      <td>14.0</td>\n",
       "    </tr>\n",
       "    <tr>\n",
       "      <th>2</th>\n",
       "      <td>2261212</td>\n",
       "      <td>26683</td>\n",
       "      <td>1</td>\n",
       "      <td>1</td>\n",
       "      <td>47476</td>\n",
       "      <td>5</td>\n",
       "      <td>6</td>\n",
       "      <td>9</td>\n",
       "      <td>13.0</td>\n",
       "    </tr>\n",
       "    <tr>\n",
       "      <th>3</th>\n",
       "      <td>491251</td>\n",
       "      <td>8670</td>\n",
       "      <td>35</td>\n",
       "      <td>1</td>\n",
       "      <td>134505</td>\n",
       "      <td>27</td>\n",
       "      <td>6</td>\n",
       "      <td>13</td>\n",
       "      <td>9.0</td>\n",
       "    </tr>\n",
       "    <tr>\n",
       "      <th>4</th>\n",
       "      <td>2571142</td>\n",
       "      <td>1940</td>\n",
       "      <td>5</td>\n",
       "      <td>1</td>\n",
       "      <td>155995</td>\n",
       "      <td>22</td>\n",
       "      <td>5</td>\n",
       "      <td>13</td>\n",
       "      <td>5.0</td>\n",
       "    </tr>\n",
       "    <tr>\n",
       "      <th>...</th>\n",
       "      <td>...</td>\n",
       "      <td>...</td>\n",
       "      <td>...</td>\n",
       "      <td>...</td>\n",
       "      <td>...</td>\n",
       "      <td>...</td>\n",
       "      <td>...</td>\n",
       "      <td>...</td>\n",
       "      <td>...</td>\n",
       "    </tr>\n",
       "    <tr>\n",
       "      <th>4545002</th>\n",
       "      <td>577211</td>\n",
       "      <td>15290</td>\n",
       "      <td>12</td>\n",
       "      <td>1</td>\n",
       "      <td>76414</td>\n",
       "      <td>30</td>\n",
       "      <td>2</td>\n",
       "      <td>15</td>\n",
       "      <td>13.0</td>\n",
       "    </tr>\n",
       "    <tr>\n",
       "      <th>4545003</th>\n",
       "      <td>1219554</td>\n",
       "      <td>21914</td>\n",
       "      <td>9</td>\n",
       "      <td>0</td>\n",
       "      <td>163902</td>\n",
       "      <td>19</td>\n",
       "      <td>1</td>\n",
       "      <td>1</td>\n",
       "      <td>3.0</td>\n",
       "    </tr>\n",
       "    <tr>\n",
       "      <th>4545004</th>\n",
       "      <td>692640</td>\n",
       "      <td>47766</td>\n",
       "      <td>4</td>\n",
       "      <td>1</td>\n",
       "      <td>597</td>\n",
       "      <td>3</td>\n",
       "      <td>0</td>\n",
       "      <td>20</td>\n",
       "      <td>30.0</td>\n",
       "    </tr>\n",
       "    <tr>\n",
       "      <th>4545005</th>\n",
       "      <td>319435</td>\n",
       "      <td>691</td>\n",
       "      <td>8</td>\n",
       "      <td>1</td>\n",
       "      <td>7124</td>\n",
       "      <td>6</td>\n",
       "      <td>5</td>\n",
       "      <td>14</td>\n",
       "      <td>24.0</td>\n",
       "    </tr>\n",
       "    <tr>\n",
       "      <th>4545006</th>\n",
       "      <td>1398151</td>\n",
       "      <td>28733</td>\n",
       "      <td>9</td>\n",
       "      <td>0</td>\n",
       "      <td>85144</td>\n",
       "      <td>17</td>\n",
       "      <td>2</td>\n",
       "      <td>16</td>\n",
       "      <td>4.0</td>\n",
       "    </tr>\n",
       "  </tbody>\n",
       "</table>\n",
       "<p>4545007 rows × 9 columns</p>\n",
       "</div>"
      ],
      "text/plain": [
       "         order_id  product_id  add_to_cart_order  reordered  user_id  \\\n",
       "0         2141543       11440                 17          0    58454   \n",
       "1          567889        1560                  1          1   129474   \n",
       "2         2261212       26683                  1          1    47476   \n",
       "3          491251        8670                 35          1   134505   \n",
       "4         2571142        1940                  5          1   155995   \n",
       "...           ...         ...                ...        ...      ...   \n",
       "4545002    577211       15290                 12          1    76414   \n",
       "4545003   1219554       21914                  9          0   163902   \n",
       "4545004    692640       47766                  4          1      597   \n",
       "4545005    319435         691                  8          1     7124   \n",
       "4545006   1398151       28733                  9          0    85144   \n",
       "\n",
       "         order_number  order_dow  order_hour_of_day  days_since_prior_order  \n",
       "0                  25          0                 15                     8.0  \n",
       "1                  16          1                 13                    14.0  \n",
       "2                   5          6                  9                    13.0  \n",
       "3                  27          6                 13                     9.0  \n",
       "4                  22          5                 13                     5.0  \n",
       "...               ...        ...                ...                     ...  \n",
       "4545002            30          2                 15                    13.0  \n",
       "4545003            19          1                  1                     3.0  \n",
       "4545004             3          0                 20                    30.0  \n",
       "4545005             6          5                 14                    24.0  \n",
       "4545006            17          2                 16                     4.0  \n",
       "\n",
       "[4545007 rows x 9 columns]"
      ]
     },
     "metadata": {},
     "output_type": "display_data"
    }
   ],
   "source": [
    "df_m2 = df_order_products.merge(df_orders, on='order_id', how=\"left\")\n",
    "display(df_m2)"
   ]
  },
  {
   "cell_type": "code",
   "execution_count": 50,
   "metadata": {},
   "outputs": [
    {
     "name": "stdout",
     "output_type": "stream",
     "text": [
      "order_id\n",
      "61355      127\n",
      "3308010    115\n",
      "2136777    108\n",
      "171934     104\n",
      "1959075     98\n",
      "          ... \n",
      "2231165      1\n",
      "816908       1\n",
      "2230951      1\n",
      "112056       1\n",
      "3421079      1\n",
      "Name: product_id, Length: 450046, dtype: int64\n",
      "\n",
      "The average number of items usually purchased is:  10.098983215049127\n"
     ]
    },
    {
     "data": {
      "image/png": "[encoded data removed]",
      "text/plain": [
       "<Figure size 1000x1000 with 1 Axes>"
      ]
     },
     "metadata": {},
     "output_type": "display_data"
    }
   ],
   "source": [
    "deck_val7 = df_m2.groupby('order_id')['product_id'].count().sort_values(ascending=False)#It is established how many products are purchased per order\n",
    "deck_val8 = deck_val7.mean() #The average number of products ordered is validated\n",
    "print(deck_val7)\n",
    "print()\n",
    "print(\"The average number of items usually purchased is: \", deck_val8)\n",
    "deck_val7.plot(        #plot(): A pandas method that prepares the chart with the data.\n",
    "        title='Average number of items purchased per user', # The title of the chart is defined.\n",
    "        style='o',      # The chart style is defined.\n",
    "        xlabel=\"Users\",   # The x-axis legend is defined; this is optional.\n",
    "        ylabel=\"Number of items\",   # The y-axis legend is defined; this is optional.\n",
    "        grid=True,               # Gridlines are defined.\n",
    "        figsize=[10, 10], alpha=0.01          # The size of the chart is defined\n",
    ")\n",
    "\n",
    "\n",
    "plt.show()\n",
    "#print(df_m2.loc[df_m2['order_id'] == 1959075])"
   ]
  },
  {
   "cell_type": "code",
   "execution_count": 51,
   "metadata": {},
   "outputs": [
    {
     "data": {
      "text/plain": [
       "count    450046.000000\n",
       "mean         10.098983\n",
       "std           7.540206\n",
       "min           1.000000\n",
       "25%           5.000000\n",
       "50%           8.000000\n",
       "75%          14.000000\n",
       "max         127.000000\n",
       "Name: product_id, dtype: float64"
      ]
     },
     "execution_count": 51,
     "metadata": {},
     "output_type": "execute_result"
    }
   ],
   "source": [
    "deck_val7.describe()#The values of the variable are displayed, and the minimum number of products in an order, the maximum number of products in \n",
    "#an order, and the average number of items per order are established."
   ]
  },
  {
   "cell_type": "markdown",
   "metadata": {},
   "source": [
    "Data verification is performed, and it is established that the average number of items purchased by customers is 10. Additionally, the minimum number of items purchased by customers is 1, and the maximum number of items purchased is 127.\n",
    "\n",
    "A chart is created, showing that the largest grouping of the number of items purchased per customer is below 20. A chart is created where points use transparency, and the color focus highlights where the data concentration is evident."
   ]
  },
  {
   "cell_type": "markdown",
   "metadata": {},
   "source": [
    "### [C2] What are the 20 most frequently reordered items? (Display their names and product IDs)"
   ]
  },
  {
   "cell_type": "code",
   "execution_count": 52,
   "metadata": {},
   "outputs": [],
   "source": [
    "df_m3 = df_m.loc[df_m['reordered'] == 1] #The dataframe where the product ID and name are already combined is taken, and it is filtered to \n",
    "# include only those that have been reordered."
   ]
  },
  {
   "cell_type": "code",
   "execution_count": 53,
   "metadata": {},
   "outputs": [
    {
     "data": {
      "text/html": [
       "<div>\n",
       "<style scoped>\n",
       "    .dataframe tbody tr th:only-of-type {\n",
       "        vertical-align: middle;\n",
       "    }\n",
       "\n",
       "    .dataframe tbody tr th {\n",
       "        vertical-align: top;\n",
       "    }\n",
       "\n",
       "    .dataframe thead th {\n",
       "        text-align: right;\n",
       "    }\n",
       "</style>\n",
       "<table border=\"1\" class=\"dataframe\">\n",
       "  <thead>\n",
       "    <tr style=\"text-align: right;\">\n",
       "      <th></th>\n",
       "      <th>order_id</th>\n",
       "      <th>product_id</th>\n",
       "      <th>add_to_cart_order</th>\n",
       "      <th>reordered</th>\n",
       "      <th>product_name</th>\n",
       "      <th>aisle_id</th>\n",
       "      <th>department_id</th>\n",
       "    </tr>\n",
       "  </thead>\n",
       "  <tbody>\n",
       "    <tr>\n",
       "      <th>1</th>\n",
       "      <td>567889</td>\n",
       "      <td>1560</td>\n",
       "      <td>1</td>\n",
       "      <td>1</td>\n",
       "      <td>BAG OF ICE</td>\n",
       "      <td>37</td>\n",
       "      <td>1</td>\n",
       "    </tr>\n",
       "    <tr>\n",
       "      <th>2</th>\n",
       "      <td>2261212</td>\n",
       "      <td>26683</td>\n",
       "      <td>1</td>\n",
       "      <td>1</td>\n",
       "      <td>CAFE LATTE PURE LIGHTLY SWEETENED ICED COFFEE ...</td>\n",
       "      <td>91</td>\n",
       "      <td>16</td>\n",
       "    </tr>\n",
       "    <tr>\n",
       "      <th>3</th>\n",
       "      <td>491251</td>\n",
       "      <td>8670</td>\n",
       "      <td>35</td>\n",
       "      <td>1</td>\n",
       "      <td>DICED TOMATOES</td>\n",
       "      <td>81</td>\n",
       "      <td>15</td>\n",
       "    </tr>\n",
       "    <tr>\n",
       "      <th>4</th>\n",
       "      <td>2571142</td>\n",
       "      <td>1940</td>\n",
       "      <td>5</td>\n",
       "      <td>1</td>\n",
       "      <td>ORGANIC 2% REDUCED FAT MILK</td>\n",
       "      <td>84</td>\n",
       "      <td>16</td>\n",
       "    </tr>\n",
       "    <tr>\n",
       "      <th>5</th>\n",
       "      <td>2456893</td>\n",
       "      <td>21616</td>\n",
       "      <td>4</td>\n",
       "      <td>1</td>\n",
       "      <td>ORGANIC BABY ARUGULA</td>\n",
       "      <td>123</td>\n",
       "      <td>4</td>\n",
       "    </tr>\n",
       "    <tr>\n",
       "      <th>6</th>\n",
       "      <td>644579</td>\n",
       "      <td>12341</td>\n",
       "      <td>5</td>\n",
       "      <td>1</td>\n",
       "      <td>HASS AVOCADOS</td>\n",
       "      <td>32</td>\n",
       "      <td>4</td>\n",
       "    </tr>\n",
       "    <tr>\n",
       "      <th>7</th>\n",
       "      <td>2231852</td>\n",
       "      <td>44925</td>\n",
       "      <td>10</td>\n",
       "      <td>1</td>\n",
       "      <td>NATURAL PROVOLONE CHEESE SLICES</td>\n",
       "      <td>21</td>\n",
       "      <td>16</td>\n",
       "    </tr>\n",
       "    <tr>\n",
       "      <th>8</th>\n",
       "      <td>3185766</td>\n",
       "      <td>36259</td>\n",
       "      <td>14</td>\n",
       "      <td>1</td>\n",
       "      <td>WHOLE NATURAL VALUE PACK ALMONDS</td>\n",
       "      <td>117</td>\n",
       "      <td>19</td>\n",
       "    </tr>\n",
       "    <tr>\n",
       "      <th>9</th>\n",
       "      <td>420019</td>\n",
       "      <td>23315</td>\n",
       "      <td>4</td>\n",
       "      <td>1</td>\n",
       "      <td>ORGANIC COLD BREW COFFEE</td>\n",
       "      <td>26</td>\n",
       "      <td>7</td>\n",
       "    </tr>\n",
       "    <tr>\n",
       "      <th>10</th>\n",
       "      <td>925051</td>\n",
       "      <td>9421</td>\n",
       "      <td>2</td>\n",
       "      <td>1</td>\n",
       "      <td>ORGANIC RAW MULTIGREEN KOBMBUCHA</td>\n",
       "      <td>31</td>\n",
       "      <td>7</td>\n",
       "    </tr>\n",
       "  </tbody>\n",
       "</table>\n",
       "</div>"
      ],
      "text/plain": [
       "    order_id  product_id  add_to_cart_order  reordered  \\\n",
       "1     567889        1560                  1          1   \n",
       "2    2261212       26683                  1          1   \n",
       "3     491251        8670                 35          1   \n",
       "4    2571142        1940                  5          1   \n",
       "5    2456893       21616                  4          1   \n",
       "6     644579       12341                  5          1   \n",
       "7    2231852       44925                 10          1   \n",
       "8    3185766       36259                 14          1   \n",
       "9     420019       23315                  4          1   \n",
       "10    925051        9421                  2          1   \n",
       "\n",
       "                                         product_name  aisle_id  department_id  \n",
       "1                                          BAG OF ICE        37              1  \n",
       "2   CAFE LATTE PURE LIGHTLY SWEETENED ICED COFFEE ...        91             16  \n",
       "3                                      DICED TOMATOES        81             15  \n",
       "4                         ORGANIC 2% REDUCED FAT MILK        84             16  \n",
       "5                                ORGANIC BABY ARUGULA       123              4  \n",
       "6                                       HASS AVOCADOS        32              4  \n",
       "7                     NATURAL PROVOLONE CHEESE SLICES        21             16  \n",
       "8                    WHOLE NATURAL VALUE PACK ALMONDS       117             19  \n",
       "9                            ORGANIC COLD BREW COFFEE        26              7  \n",
       "10                   ORGANIC RAW MULTIGREEN KOBMBUCHA        31              7  "
      ]
     },
     "metadata": {},
     "output_type": "display_data"
    }
   ],
   "source": [
    "display(df_m3.head(10))"
   ]
  },
  {
   "cell_type": "code",
   "execution_count": 54,
   "metadata": {},
   "outputs": [],
   "source": [
    "deck_val8 = df_m3.groupby(by =['product_id', 'product_name'])['order_id'].count().sort_values(ascending=False) #A count of the product in the orders is performed"
   ]
  },
  {
   "cell_type": "code",
   "execution_count": 55,
   "metadata": {},
   "outputs": [
    {
     "name": "stdout",
     "output_type": "stream",
     "text": [
      "product_id  product_name            \n",
      "24852       BANANA                      55763\n",
      "13176       BAG OF ORGANIC BANANAS      44450\n",
      "21137       ORGANIC STRAWBERRIES        28639\n",
      "21903       ORGANIC BABY SPINACH        26233\n",
      "47209       ORGANIC HASS AVOCADO        23629\n",
      "47766       ORGANIC AVOCADO             18743\n",
      "27845       ORGANIC WHOLE MILK          16251\n",
      "47626       LARGE LEMON                 15044\n",
      "27966       ORGANIC RASPBERRIES         14748\n",
      "16797       STRAWBERRIES                13945\n",
      "26209       LIMES                       13327\n",
      "22935       ORGANIC YELLOW ONION        11145\n",
      "24964       ORGANIC GARLIC              10411\n",
      "45007       ORGANIC ZUCCHINI            10076\n",
      "49683       CUCUMBER KIRBY               9538\n",
      "28204       ORGANIC FUJI APPLE           8989\n",
      "8277        APPLE HONEYCRISP ORGANIC     8836\n",
      "39275       ORGANIC BLUEBERRIES          8799\n",
      "5876        ORGANIC LEMON                8412\n",
      "49235       ORGANIC HALF & HALF          8389\n",
      "Name: order_id, dtype: int64\n"
     ]
    }
   ],
   "source": [
    "deck_val8=deck_val8.head(20)\n",
    "\n",
    "print(deck_val8)"
   ]
  },
  {
   "cell_type": "markdown",
   "metadata": {},
   "source": [
    "Upon conducting the respective analysis, it is established that the most consumed products, which are reordered, are food products, organic items, and they are focused on fruits."
   ]
  },
  {
   "cell_type": "markdown",
   "metadata": {},
   "source": [
    "### [C3] For each product, what is the proportion of times it is ordered and reordered?"
   ]
  },
  {
   "cell_type": "code",
   "execution_count": 56,
   "metadata": {},
   "outputs": [],
   "source": [
    "deck_val9 = df_m.groupby(by =['product_id', 'product_name'])['reordered'].count().sort_values(ascending=False) #The product count is established.\n",
    "deck_val10 = deck_val9.sum() #A total count of the products is performed.\n",
    "\n",
    "deck_val11 = deck_val9 / deck_val10 #The proportion per product is established."
   ]
  },
  {
   "cell_type": "code",
   "execution_count": 57,
   "metadata": {},
   "outputs": [
    {
     "name": "stdout",
     "output_type": "stream",
     "text": [
      "product_id  product_name                                          \n",
      "24852       BANANA                                                    1.453243e-02\n",
      "13176       BAG OF ORGANIC BANANAS                                    1.172649e-02\n",
      "21137       ORGANIC STRAWBERRIES                                      8.149382e-03\n",
      "21903       ORGANIC BABY SPINACH                                      7.474356e-03\n",
      "47209       ORGANIC HASS AVOCADO                                      6.550705e-03\n",
      "                                                                          ...     \n",
      "5836        ARCTIC D COD LIVER OIL LEMON                              2.200217e-07\n",
      "43573       WHISK- 10 INCH                                            2.200217e-07\n",
      "43570       QUESO COTIJA                                              2.200217e-07\n",
      "36174       WHOLE PINTO BEANS                                         2.200217e-07\n",
      "41403       EXTRA RICH & THICK SPAGHETTI SAUCE SPICES & SEASONINGS    2.200217e-07\n",
      "Name: reordered, Length: 45573, dtype: float64\n"
     ]
    }
   ],
   "source": [
    "#print(deck_val9)\n",
    "#print()\n",
    "#print(deck_val10)\n",
    "#print()\n",
    "print(deck_val11)\n"
   ]
  },
  {
   "cell_type": "code",
   "execution_count": 58,
   "metadata": {},
   "outputs": [
    {
     "name": "stdout",
     "output_type": "stream",
     "text": [
      "\n",
      "product_id  product_name                                                                 \n",
      "14721       BONE STRENGTH TAKE CARE                                                          1.0\n",
      "20949       VANILLA SANDWICH COOKIES                                                         1.0\n",
      "6723        PALMIERS- PETITE                                                                 1.0\n",
      "6732        NATURALLY SPARKLING MINERAL WATER                                                1.0\n",
      "45088       CALIFORNIA DILL POLLEN & GARLIC GOAT CHEESE & OLIVE OIL INFUSION                 1.0\n",
      "                                                                                            ... \n",
      "10485       CARAMEL APPLE POP                                                                0.0\n",
      "37690       CALYPSO FRESH 2X CONCENTRATED SCENTSATIONS 166 LOADS LIQUID LAUNDRY DETERGENT    0.0\n",
      "10484       AVOCADO AND GREENS                                                               0.0\n",
      "10474       NUSTEVIA WHITE STEVIA POWDER                                                     0.0\n",
      "42984       SALSA FOR ALL SEASONS HALF GUACAMOLE HALF ROASTED SALSA                          0.0\n",
      "Name: reordered, Length: 45573, dtype: float64\n"
     ]
    }
   ],
   "source": [
    "deck_val12 = df_m.groupby(by =['product_id', 'product_name'])['reordered'].mean().sort_values(ascending=False)#The average for reordering it is established\n",
    "print()\n",
    "print(deck_val12)"
   ]
  },
  {
   "cell_type": "markdown",
   "metadata": {},
   "source": [
    "The proportion for each product to be reordered is established. Based on the information, it is evident that the product BANANA with product_id 24852 has a 1.45% chance of being selected in an order and a 1% chance of being reordered in the next purchase. This is specified for this product, and similarly for the other products"
   ]
  },
  {
   "cell_type": "markdown",
   "metadata": {},
   "source": [
    "### [C4] For each customer, what proportion of their products had they already ordered?"
   ]
  },
  {
   "cell_type": "code",
   "execution_count": 59,
   "metadata": {},
   "outputs": [],
   "source": [
    "df_mp = df_m2.loc[df_m2['reordered'] == 1]\n",
    "\n",
    "deck_val13 = df_mp.groupby('user_id')['reordered'].count().sort_values(ascending=False)\n",
    "#display(df_mp)"
   ]
  },
  {
   "cell_type": "markdown",
   "metadata": {},
   "source": [
    "In this context, I perform a merge of the instacart_orders dataframe and the order_products dataframe. Based on this, the data is grouped by customer and product, and the average reorder rate is calculated.\n",
    "I align with what you mentioned and make the necessary adjustments, I’ll be waiting to see if it’s addressed correctly. The specific dataframe is taken, and a filter is applied to keep only the reordered products. Once this is done, a filter is applied by customer for reordered products (1). Then, the data is filtered by user_id, and a count is performed to determine how many times they reorder."
   ]
  },
  {
   "cell_type": "code",
   "execution_count": 60,
   "metadata": {},
   "outputs": [
    {
     "data": {
      "text/plain": [
       "user_id\n",
       "137587    1.0\n",
       "173474    1.0\n",
       "13918     1.0\n",
       "62300     1.0\n",
       "62307     1.0\n",
       "         ... \n",
       "190953    0.0\n",
       "119371    0.0\n",
       "63173     0.0\n",
       "63163     0.0\n",
       "165726    0.0\n",
       "Name: reordered, Length: 149626, dtype: float64"
      ]
     },
     "metadata": {},
     "output_type": "display_data"
    }
   ],
   "source": [
    "prop_reord = df_m2.groupby('user_id')['reordered'].mean().sort_values(ascending=False)\n",
    "display(prop_reord)"
   ]
  },
  {
   "cell_type": "code",
   "execution_count": 61,
   "metadata": {},
   "outputs": [
    {
     "name": "stdout",
     "output_type": "stream",
     "text": [
      "user_id\n",
      "103634    477\n",
      "164055    449\n",
      "137629    444\n",
      "33731     437\n",
      "59819     436\n",
      "         ... \n",
      "77356       1\n",
      "77348       1\n",
      "193229      1\n",
      "77324       1\n",
      "2           1\n",
      "Name: reordered, Length: 132991, dtype: int64\n"
     ]
    }
   ],
   "source": [
    "print(deck_val13)"
   ]
  },
  {
   "cell_type": "markdown",
   "metadata": {},
   "source": [
    "It is confirmed that the customer has a certain number of reorders, and these have the most weight."
   ]
  },
  {
   "cell_type": "markdown",
   "metadata": {},
   "source": [
    "### [C5] What are the 20 most common items that people add first to their carts?"
   ]
  },
  {
   "cell_type": "code",
   "execution_count": 62,
   "metadata": {},
   "outputs": [
    {
     "data": {
      "text/html": [
       "<div>\n",
       "<style scoped>\n",
       "    .dataframe tbody tr th:only-of-type {\n",
       "        vertical-align: middle;\n",
       "    }\n",
       "\n",
       "    .dataframe tbody tr th {\n",
       "        vertical-align: top;\n",
       "    }\n",
       "\n",
       "    .dataframe thead th {\n",
       "        text-align: right;\n",
       "    }\n",
       "</style>\n",
       "<table border=\"1\" class=\"dataframe\">\n",
       "  <thead>\n",
       "    <tr style=\"text-align: right;\">\n",
       "      <th></th>\n",
       "      <th>order_id</th>\n",
       "      <th>product_id</th>\n",
       "      <th>add_to_cart_order</th>\n",
       "      <th>reordered</th>\n",
       "      <th>product_name</th>\n",
       "      <th>aisle_id</th>\n",
       "      <th>department_id</th>\n",
       "    </tr>\n",
       "  </thead>\n",
       "  <tbody>\n",
       "    <tr>\n",
       "      <th>0</th>\n",
       "      <td>2141543</td>\n",
       "      <td>11440</td>\n",
       "      <td>17</td>\n",
       "      <td>0</td>\n",
       "      <td>CHICKEN BREAST TENDERS BREADED</td>\n",
       "      <td>129</td>\n",
       "      <td>1</td>\n",
       "    </tr>\n",
       "    <tr>\n",
       "      <th>1</th>\n",
       "      <td>567889</td>\n",
       "      <td>1560</td>\n",
       "      <td>1</td>\n",
       "      <td>1</td>\n",
       "      <td>BAG OF ICE</td>\n",
       "      <td>37</td>\n",
       "      <td>1</td>\n",
       "    </tr>\n",
       "    <tr>\n",
       "      <th>2</th>\n",
       "      <td>2261212</td>\n",
       "      <td>26683</td>\n",
       "      <td>1</td>\n",
       "      <td>1</td>\n",
       "      <td>CAFE LATTE PURE LIGHTLY SWEETENED ICED COFFEE ...</td>\n",
       "      <td>91</td>\n",
       "      <td>16</td>\n",
       "    </tr>\n",
       "    <tr>\n",
       "      <th>3</th>\n",
       "      <td>491251</td>\n",
       "      <td>8670</td>\n",
       "      <td>35</td>\n",
       "      <td>1</td>\n",
       "      <td>DICED TOMATOES</td>\n",
       "      <td>81</td>\n",
       "      <td>15</td>\n",
       "    </tr>\n",
       "    <tr>\n",
       "      <th>4</th>\n",
       "      <td>2571142</td>\n",
       "      <td>1940</td>\n",
       "      <td>5</td>\n",
       "      <td>1</td>\n",
       "      <td>ORGANIC 2% REDUCED FAT MILK</td>\n",
       "      <td>84</td>\n",
       "      <td>16</td>\n",
       "    </tr>\n",
       "    <tr>\n",
       "      <th>5</th>\n",
       "      <td>2456893</td>\n",
       "      <td>21616</td>\n",
       "      <td>4</td>\n",
       "      <td>1</td>\n",
       "      <td>ORGANIC BABY ARUGULA</td>\n",
       "      <td>123</td>\n",
       "      <td>4</td>\n",
       "    </tr>\n",
       "    <tr>\n",
       "      <th>6</th>\n",
       "      <td>644579</td>\n",
       "      <td>12341</td>\n",
       "      <td>5</td>\n",
       "      <td>1</td>\n",
       "      <td>HASS AVOCADOS</td>\n",
       "      <td>32</td>\n",
       "      <td>4</td>\n",
       "    </tr>\n",
       "    <tr>\n",
       "      <th>7</th>\n",
       "      <td>2231852</td>\n",
       "      <td>44925</td>\n",
       "      <td>10</td>\n",
       "      <td>1</td>\n",
       "      <td>NATURAL PROVOLONE CHEESE SLICES</td>\n",
       "      <td>21</td>\n",
       "      <td>16</td>\n",
       "    </tr>\n",
       "    <tr>\n",
       "      <th>8</th>\n",
       "      <td>3185766</td>\n",
       "      <td>36259</td>\n",
       "      <td>14</td>\n",
       "      <td>1</td>\n",
       "      <td>WHOLE NATURAL VALUE PACK ALMONDS</td>\n",
       "      <td>117</td>\n",
       "      <td>19</td>\n",
       "    </tr>\n",
       "    <tr>\n",
       "      <th>9</th>\n",
       "      <td>420019</td>\n",
       "      <td>23315</td>\n",
       "      <td>4</td>\n",
       "      <td>1</td>\n",
       "      <td>ORGANIC COLD BREW COFFEE</td>\n",
       "      <td>26</td>\n",
       "      <td>7</td>\n",
       "    </tr>\n",
       "  </tbody>\n",
       "</table>\n",
       "</div>"
      ],
      "text/plain": [
       "   order_id  product_id  add_to_cart_order  reordered  \\\n",
       "0   2141543       11440                 17          0   \n",
       "1    567889        1560                  1          1   \n",
       "2   2261212       26683                  1          1   \n",
       "3    491251        8670                 35          1   \n",
       "4   2571142        1940                  5          1   \n",
       "5   2456893       21616                  4          1   \n",
       "6    644579       12341                  5          1   \n",
       "7   2231852       44925                 10          1   \n",
       "8   3185766       36259                 14          1   \n",
       "9    420019       23315                  4          1   \n",
       "\n",
       "                                        product_name  aisle_id  department_id  \n",
       "0                     CHICKEN BREAST TENDERS BREADED       129              1  \n",
       "1                                         BAG OF ICE        37              1  \n",
       "2  CAFE LATTE PURE LIGHTLY SWEETENED ICED COFFEE ...        91             16  \n",
       "3                                     DICED TOMATOES        81             15  \n",
       "4                        ORGANIC 2% REDUCED FAT MILK        84             16  \n",
       "5                               ORGANIC BABY ARUGULA       123              4  \n",
       "6                                      HASS AVOCADOS        32              4  \n",
       "7                    NATURAL PROVOLONE CHEESE SLICES        21             16  \n",
       "8                   WHOLE NATURAL VALUE PACK ALMONDS       117             19  \n",
       "9                           ORGANIC COLD BREW COFFEE        26              7  "
      ]
     },
     "metadata": {},
     "output_type": "display_data"
    }
   ],
   "source": [
    "display(df_m.head(10)) #The values from the combined dataframe are shown, where the filtering should be done based on the product that is chosen first."
   ]
  },
  {
   "cell_type": "code",
   "execution_count": 63,
   "metadata": {},
   "outputs": [
    {
     "data": {
      "text/html": [
       "<div>\n",
       "<style scoped>\n",
       "    .dataframe tbody tr th:only-of-type {\n",
       "        vertical-align: middle;\n",
       "    }\n",
       "\n",
       "    .dataframe tbody tr th {\n",
       "        vertical-align: top;\n",
       "    }\n",
       "\n",
       "    .dataframe thead th {\n",
       "        text-align: right;\n",
       "    }\n",
       "</style>\n",
       "<table border=\"1\" class=\"dataframe\">\n",
       "  <thead>\n",
       "    <tr style=\"text-align: right;\">\n",
       "      <th></th>\n",
       "      <th>order_id</th>\n",
       "      <th>product_id</th>\n",
       "      <th>add_to_cart_order</th>\n",
       "      <th>reordered</th>\n",
       "      <th>product_name</th>\n",
       "      <th>aisle_id</th>\n",
       "      <th>department_id</th>\n",
       "    </tr>\n",
       "  </thead>\n",
       "  <tbody>\n",
       "    <tr>\n",
       "      <th>1</th>\n",
       "      <td>567889</td>\n",
       "      <td>1560</td>\n",
       "      <td>1</td>\n",
       "      <td>1</td>\n",
       "      <td>BAG OF ICE</td>\n",
       "      <td>37</td>\n",
       "      <td>1</td>\n",
       "    </tr>\n",
       "    <tr>\n",
       "      <th>2</th>\n",
       "      <td>2261212</td>\n",
       "      <td>26683</td>\n",
       "      <td>1</td>\n",
       "      <td>1</td>\n",
       "      <td>CAFE LATTE PURE LIGHTLY SWEETENED ICED COFFEE ...</td>\n",
       "      <td>91</td>\n",
       "      <td>16</td>\n",
       "    </tr>\n",
       "    <tr>\n",
       "      <th>14</th>\n",
       "      <td>1961225</td>\n",
       "      <td>37553</td>\n",
       "      <td>1</td>\n",
       "      <td>1</td>\n",
       "      <td>ICED COFFEE LIGHTLY SWEET</td>\n",
       "      <td>26</td>\n",
       "      <td>7</td>\n",
       "    </tr>\n",
       "    <tr>\n",
       "      <th>16</th>\n",
       "      <td>639939</td>\n",
       "      <td>10017</td>\n",
       "      <td>1</td>\n",
       "      <td>1</td>\n",
       "      <td>TILAPIA FILET</td>\n",
       "      <td>39</td>\n",
       "      <td>12</td>\n",
       "    </tr>\n",
       "    <tr>\n",
       "      <th>23</th>\n",
       "      <td>750040</td>\n",
       "      <td>8518</td>\n",
       "      <td>1</td>\n",
       "      <td>0</td>\n",
       "      <td>ORGANIC RED ONION</td>\n",
       "      <td>83</td>\n",
       "      <td>4</td>\n",
       "    </tr>\n",
       "    <tr>\n",
       "      <th>...</th>\n",
       "      <td>...</td>\n",
       "      <td>...</td>\n",
       "      <td>...</td>\n",
       "      <td>...</td>\n",
       "      <td>...</td>\n",
       "      <td>...</td>\n",
       "      <td>...</td>\n",
       "    </tr>\n",
       "    <tr>\n",
       "      <th>4544978</th>\n",
       "      <td>1759009</td>\n",
       "      <td>46175</td>\n",
       "      <td>1</td>\n",
       "      <td>0</td>\n",
       "      <td>HALF BAKED® ICE CREAM</td>\n",
       "      <td>37</td>\n",
       "      <td>1</td>\n",
       "    </tr>\n",
       "    <tr>\n",
       "      <th>4544989</th>\n",
       "      <td>115427</td>\n",
       "      <td>20842</td>\n",
       "      <td>1</td>\n",
       "      <td>1</td>\n",
       "      <td>TOTAL 0% GREEK YOGURT</td>\n",
       "      <td>120</td>\n",
       "      <td>16</td>\n",
       "    </tr>\n",
       "    <tr>\n",
       "      <th>4544990</th>\n",
       "      <td>2049780</td>\n",
       "      <td>28576</td>\n",
       "      <td>1</td>\n",
       "      <td>1</td>\n",
       "      <td>VANILLA BEAN CHIA POD</td>\n",
       "      <td>120</td>\n",
       "      <td>16</td>\n",
       "    </tr>\n",
       "    <tr>\n",
       "      <th>4544997</th>\n",
       "      <td>2300092</td>\n",
       "      <td>10017</td>\n",
       "      <td>1</td>\n",
       "      <td>0</td>\n",
       "      <td>TILAPIA FILET</td>\n",
       "      <td>39</td>\n",
       "      <td>12</td>\n",
       "    </tr>\n",
       "    <tr>\n",
       "      <th>4544999</th>\n",
       "      <td>1622300</td>\n",
       "      <td>24852</td>\n",
       "      <td>1</td>\n",
       "      <td>1</td>\n",
       "      <td>BANANA</td>\n",
       "      <td>24</td>\n",
       "      <td>4</td>\n",
       "    </tr>\n",
       "  </tbody>\n",
       "</table>\n",
       "<p>450046 rows × 7 columns</p>\n",
       "</div>"
      ],
      "text/plain": [
       "         order_id  product_id  add_to_cart_order  reordered  \\\n",
       "1          567889        1560                  1          1   \n",
       "2         2261212       26683                  1          1   \n",
       "14        1961225       37553                  1          1   \n",
       "16         639939       10017                  1          1   \n",
       "23         750040        8518                  1          0   \n",
       "...           ...         ...                ...        ...   \n",
       "4544978   1759009       46175                  1          0   \n",
       "4544989    115427       20842                  1          1   \n",
       "4544990   2049780       28576                  1          1   \n",
       "4544997   2300092       10017                  1          0   \n",
       "4544999   1622300       24852                  1          1   \n",
       "\n",
       "                                              product_name  aisle_id  \\\n",
       "1                                               BAG OF ICE        37   \n",
       "2        CAFE LATTE PURE LIGHTLY SWEETENED ICED COFFEE ...        91   \n",
       "14                               ICED COFFEE LIGHTLY SWEET        26   \n",
       "16                                           TILAPIA FILET        39   \n",
       "23                                       ORGANIC RED ONION        83   \n",
       "...                                                    ...       ...   \n",
       "4544978                              HALF BAKED® ICE CREAM        37   \n",
       "4544989                              TOTAL 0% GREEK YOGURT       120   \n",
       "4544990                              VANILLA BEAN CHIA POD       120   \n",
       "4544997                                      TILAPIA FILET        39   \n",
       "4544999                                             BANANA        24   \n",
       "\n",
       "         department_id  \n",
       "1                    1  \n",
       "2                   16  \n",
       "14                   7  \n",
       "16                  12  \n",
       "23                   4  \n",
       "...                ...  \n",
       "4544978              1  \n",
       "4544989             16  \n",
       "4544990             16  \n",
       "4544997             12  \n",
       "4544999              4  \n",
       "\n",
       "[450046 rows x 7 columns]"
      ]
     },
     "metadata": {},
     "output_type": "display_data"
    }
   ],
   "source": [
    "df_m5 = df_m.loc[df_m['add_to_cart_order'] == 1] #Filter the dataframe with products that are selected first\n",
    "display(df_m5)"
   ]
  },
  {
   "cell_type": "code",
   "execution_count": 64,
   "metadata": {},
   "outputs": [
    {
     "name": "stdout",
     "output_type": "stream",
     "text": [
      "product_id  product_name               \n",
      "24852       BANANA                         15562\n",
      "13176       BAG OF ORGANIC BANANAS         11026\n",
      "27845       ORGANIC WHOLE MILK              4363\n",
      "21137       ORGANIC STRAWBERRIES            3946\n",
      "47209       ORGANIC HASS AVOCADO            3390\n",
      "21903       ORGANIC BABY SPINACH            3336\n",
      "47766       ORGANIC AVOCADO                 3044\n",
      "19660       SPRING WATER                    2336\n",
      "16797       STRAWBERRIES                    2308\n",
      "27966       ORGANIC RASPBERRIES             2024\n",
      "44632       SPARKLING WATER GRAPEFRUIT      1914\n",
      "49235       ORGANIC HALF & HALF             1797\n",
      "47626       LARGE LEMON                     1737\n",
      "196         SODA                            1733\n",
      "38689       ORGANIC REDUCED FAT MILK        1397\n",
      "26209       LIMES                           1370\n",
      "12341       HASS AVOCADOS                   1340\n",
      "5785        ORGANIC REDUCED FAT 2% MILK     1310\n",
      "27086       HALF & HALF                     1309\n",
      "43352       RASPBERRIES                     1246\n",
      "Name: order_id, dtype: int64\n"
     ]
    }
   ],
   "source": [
    "deck_val14 = df_m5.groupby(by =['product_id', 'product_name'])['order_id'].count().sort_values(ascending=False)#Count the product per order.\n",
    "deck_val14=deck_val14.head(20) #The top 20 are displayed and assigned to new variables\n",
    "\n",
    "print(deck_val14)"
   ]
  },
  {
   "cell_type": "markdown",
   "metadata": {},
   "source": [
    "The top 20 items that are chosen first in the carts for any order are displayed. It is evident that most of them are food items (fruits and vegetables), and beverages are in second place."
   ]
  },
  {
   "cell_type": "markdown",
   "metadata": {},
   "source": [
    "### General Conclusion of the Project:\n",
    "\n",
    "This project begins with multiple dataframes to perform analysis and data merging.\n",
    "\n",
    "    - The first step involves general data validation, cleaning, and confirmation.\n",
    "    - Various functions are used to cross-check information, clean, and adjust the data.\n",
    "    - Finally, all analysis and dataframe merging are conducted to clarify any doubts, supported by graphs that visually clarify results and enable decision-making. It establishes:\n",
    "        - Consumption patterns: The star product required in purchases is identified (24852 - BANANA), which was the most requested item in general orders. In orders with reorders, it showed the same behavior and was the most relevant item included in the shopping cart.\n",
    "        - User behavior patterns: Peaks are identified, showing when the highest number of orders are made (time frame from 10:00 AM to 2:00 PM). The day with the highest flow is Sunday, and the average time customers take to place another order is established.\n",
    "\n",
    "The overall flow established in the project enables:\n",
    "\n",
    "- Decision-making.\n",
    "- Process improvement.\n",
    "- Resource allocation.\n",
    "- Maximization of profits."
   ]
  }
 ],
 "metadata": {
  "kernelspec": {
   "display_name": "base",
   "language": "python",
   "name": "python3"
  },
  "language_info": {
   "codemirror_mode": {
    "name": "ipython",
    "version": 3
   },
   "file_extension": ".py",
   "mimetype": "text/x-python",
   "name": "python",
   "nbconvert_exporter": "python",
   "pygments_lexer": "ipython3",
   "version": "3.11.7"
  }
 },
 "nbformat": 4,
 "nbformat_minor": 2
}
